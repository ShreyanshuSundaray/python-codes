{
 "cells": [
  {
   "cell_type": "code",
   "execution_count": null,
   "id": "c5218d79",
   "metadata": {},
   "outputs": [],
   "source": [
    "p1=(input('choose one from rock , paper ,scissor :'))\n",
    "p2=(input('choose one from rock , paper ,scissor :'))\n",
    "\n",
    "if p1==('rock') and p2==('paper'):\n",
    "    print('p2 win')\n",
    "elif p1==('paper') and p2==('rock'):\n",
    "    print('p1 win')\n",
    "elif p1==('paper') and p2==('scissor'):\n",
    "    print('p2 win')\n",
    "elif p1==('scissor') and p2==('paper'):\n",
    "    print('p1 win')\n",
    "elif p1==('rock') and p2==('scissor'):\n",
    "    print('p1 win')\n",
    "elif p1==('scissor') and p2==('rock'):\n",
    "    print('p2 win')\n",
    "else:\n",
    "    print('it is a draw')\n",
    "    \n"
   ]
  },
  {
   "cell_type": "code",
   "execution_count": null,
   "id": "6a9590c5",
   "metadata": {},
   "outputs": [],
   "source": []
  }
 ],
 "metadata": {
  "kernelspec": {
   "display_name": "Python 3 (ipykernel)",
   "language": "python",
   "name": "python3"
  },
  "language_info": {
   "codemirror_mode": {
    "name": "ipython",
    "version": 3
   },
   "file_extension": ".py",
   "mimetype": "text/x-python",
   "name": "python",
   "nbconvert_exporter": "python",
   "pygments_lexer": "ipython3",
   "version": "3.9.12"
  }
 },
 "nbformat": 4,
 "nbformat_minor": 5
}
