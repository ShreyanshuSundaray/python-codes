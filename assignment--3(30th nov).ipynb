{
 "cells": [
  {
   "cell_type": "markdown",
   "id": "6c2bade4",
   "metadata": {},
   "source": [
    "#### (1) Write a python program that prints all the numbers from 0 to 6 except 3 and 6."
   ]
  },
  {
   "cell_type": "code",
   "execution_count": 2,
   "id": "679da359",
   "metadata": {},
   "outputs": [
    {
     "name": "stdout",
     "output_type": "stream",
     "text": [
      "1\n",
      "2\n",
      "4\n",
      "5\n"
     ]
    }
   ],
   "source": [
    "for i in range(0,6):\n",
    "    if i%3==0:\n",
    "        continue\n",
    "    print(i)\n",
    "        "
   ]
  },
  {
   "cell_type": "code",
   "execution_count": null,
   "id": "0c084787",
   "metadata": {},
   "outputs": [],
   "source": []
  },
  {
   "cell_type": "code",
   "execution_count": 7,
   "id": "5b0f2cf0",
   "metadata": {},
   "outputs": [
    {
     "name": "stdout",
     "output_type": "stream",
     "text": [
      "1\n",
      "2\n",
      "4\n",
      "5\n"
     ]
    }
   ],
   "source": [
    "a=0\n",
    "while a<6:\n",
    "    a=a+1\n",
    "    if a%3==0:\n",
    "        continue\n",
    "    print(a)"
   ]
  },
  {
   "cell_type": "markdown",
   "id": "cb39d4ed",
   "metadata": {},
   "source": [
    "#### (2) Write a program to accept a number from a user and calculate the sum of all numbers from 1 to a given number. "
   ]
  },
  {
   "cell_type": "code",
   "execution_count": 18,
   "id": "d755a83d",
   "metadata": {},
   "outputs": [
    {
     "name": "stdout",
     "output_type": "stream",
     "text": [
      "Enter a number : 35\n",
      "630\n"
     ]
    }
   ],
   "source": [
    "n=int(input(\"Enter a number : \"))\n",
    "sum=0\n",
    "for i in range(1,n+1):\n",
    "    sum=sum+i\n",
    "print(sum)"
   ]
  },
  {
   "cell_type": "code",
   "execution_count": 21,
   "id": "42ec12c8",
   "metadata": {},
   "outputs": [
    {
     "name": "stdout",
     "output_type": "stream",
     "text": [
      "Enter a number : 35\n",
      "630\n"
     ]
    }
   ],
   "source": [
    "n2= int(input(\"Enter a number : \"))\n",
    "sum=0\n",
    "while n2 >= 1:\n",
    "    \n",
    "    sum = sum + n2\n",
    "    n2=n2 - 1\n",
    "print(sum)\n"
   ]
  },
  {
   "cell_type": "markdown",
   "id": "c64b30b1",
   "metadata": {},
   "source": [
    "#### (3) Write a program to print multiplication table of a given number(input)"
   ]
  },
  {
   "cell_type": "code",
   "execution_count": 22,
   "id": "e8872975",
   "metadata": {},
   "outputs": [],
   "source": [
    "def multiplication_table(x,y):\n",
    "    for y in range(1,y+1):\n",
    "        print('{} * {} = {}'.format(x,y,x*y))\n",
    "        "
   ]
  },
  {
   "cell_type": "code",
   "execution_count": 23,
   "id": "f7a0d173",
   "metadata": {},
   "outputs": [
    {
     "name": "stdout",
     "output_type": "stream",
     "text": [
      "15 * 1 = 15\n",
      "15 * 2 = 30\n",
      "15 * 3 = 45\n",
      "15 * 4 = 60\n",
      "15 * 5 = 75\n",
      "15 * 6 = 90\n",
      "15 * 7 = 105\n",
      "15 * 8 = 120\n",
      "15 * 9 = 135\n",
      "15 * 10 = 150\n"
     ]
    }
   ],
   "source": [
    "multiplication_table(15,10)"
   ]
  },
  {
   "cell_type": "code",
   "execution_count": 2,
   "id": "a3881230",
   "metadata": {},
   "outputs": [
    {
     "name": "stdout",
     "output_type": "stream",
     "text": [
      "Enter the table you want : 15\n",
      "Enter the start number : 1\n",
      "Enter the limit : 15\n",
      "15 * 1 = 15\n",
      "15 * 2 = 30\n",
      "15 * 3 = 45\n",
      "15 * 4 = 60\n",
      "15 * 5 = 75\n",
      "15 * 6 = 90\n",
      "15 * 7 = 105\n",
      "15 * 8 = 120\n",
      "15 * 9 = 135\n",
      "15 * 10 = 150\n",
      "15 * 11 = 165\n",
      "15 * 12 = 180\n",
      "15 * 13 = 195\n",
      "15 * 14 = 210\n",
      "15 * 15 = 225\n"
     ]
    }
   ],
   "source": [
    "table=int(input(\"Enter the table you want : \"))\n",
    "start=int(input(\"Enter the start number : \"))    \n",
    "limit=int(input(\"Enter the limit : \"))\n",
    "while (start<=limit):\n",
    "    print(table ,\"*\",start,\"=\" , table*start )\n",
    "    start=start+1"
   ]
  },
  {
   "cell_type": "markdown",
   "id": "7056bc30",
   "metadata": {},
   "source": [
    "#### (4) Write a program to count the total number of digits in a number using a while loop."
   ]
  },
  {
   "cell_type": "code",
   "execution_count": 10,
   "id": "29891830",
   "metadata": {},
   "outputs": [
    {
     "name": "stdout",
     "output_type": "stream",
     "text": [
      "Enter a number : 498563453\n",
      "the total digits in num is :  9\n"
     ]
    }
   ],
   "source": [
    "num=int(input(\"Enter a number : \"))\n",
    "count=0\n",
    "while num>0:\n",
    "    count=count+1\n",
    "    num =num//10\n",
    "    \n",
    "print(\"the total digits in num is : \",count)\n",
    "    "
   ]
  },
  {
   "cell_type": "code",
   "execution_count": 18,
   "id": "b5005697",
   "metadata": {},
   "outputs": [
    {
     "name": "stdout",
     "output_type": "stream",
     "text": [
      "Enter a number : 38748730430\n",
      "the total digits in num is :  11\n"
     ]
    }
   ],
   "source": [
    "num=int(input(\"Enter a number : \"))\n",
    "for i in (0,len(str(num))):\n",
    "    if i!=0:\n",
    "        print(\"the total digits in num is : \",i)"
   ]
  },
  {
   "cell_type": "markdown",
   "id": "cb9b3915",
   "metadata": {},
   "source": [
    "#### (5) Write a python program to guess a number between 1 to ."
   ]
  },
  {
   "cell_type": "code",
   "execution_count": 16,
   "id": "5caa4e18",
   "metadata": {},
   "outputs": [
    {
     "name": "stdout",
     "output_type": "stream",
     "text": [
      "Enter a range : 15\n",
      "Enter the number want to guess : 5\n",
      "well guessed\n"
     ]
    }
   ],
   "source": [
    "a=int(input(\"Enter a range : \"))\n",
    "b=int(input(\"Enter the number want to guess : \"))\n",
    "for i in range(0,a):\n",
    "    if b!=5:        \n",
    "        print(\"Wrong guess\")\n",
    "        break\n",
    "    elif b==5:\n",
    "        print(\"well guessed\")\n",
    "        break"
   ]
  },
  {
   "cell_type": "code",
   "execution_count": 3,
   "id": "464d36cf",
   "metadata": {},
   "outputs": [
    {
     "name": "stdout",
     "output_type": "stream",
     "text": [
      "Enter a range : 15\n",
      "Guess the number : 5\n",
      "well guessed\n"
     ]
    }
   ],
   "source": [
    "range=int(input(\"Enter a range : \"))\n",
    "b=int(input(\"Guess the number : \"))\n",
    "while range>=6:\n",
    "    if b==5:\n",
    "        print(\"well guessed\")\n",
    "        break\n",
    "    elif b!=5:\n",
    "        print(\"wrong guess\")\n",
    "        break"
   ]
  },
  {
   "cell_type": "markdown",
   "id": "9855582c",
   "metadata": {},
   "source": [
    "#### (6) Write a python program which iterates the integers from 1 to 60. For multiplies of 3 print \"fizz\" instead of the number and for multiplies of five print\"Buzz\" .For numbers which are multiplies of both 3 and 5 print \"FizzBuzz\". "
   ]
  },
  {
   "cell_type": "code",
   "execution_count": 22,
   "id": "4272740a",
   "metadata": {},
   "outputs": [
    {
     "name": "stdout",
     "output_type": "stream",
     "text": [
      "FizzBuzz\n",
      "1\n",
      "2\n",
      "Fizz\n",
      "4\n",
      "Buzz\n",
      "Fizz\n",
      "7\n",
      "8\n",
      "Fizz\n",
      "Buzz\n",
      "11\n",
      "Fizz\n",
      "13\n",
      "14\n",
      "FizzBuzz\n",
      "16\n",
      "17\n",
      "Fizz\n",
      "19\n",
      "Buzz\n",
      "Fizz\n",
      "22\n",
      "23\n",
      "Fizz\n",
      "Buzz\n",
      "26\n",
      "Fizz\n",
      "28\n",
      "29\n",
      "FizzBuzz\n",
      "31\n",
      "32\n",
      "Fizz\n",
      "34\n",
      "Buzz\n",
      "Fizz\n",
      "37\n",
      "38\n",
      "Fizz\n",
      "Buzz\n",
      "41\n",
      "Fizz\n",
      "43\n",
      "44\n",
      "FizzBuzz\n",
      "46\n",
      "47\n",
      "Fizz\n",
      "49\n",
      "Buzz\n",
      "Fizz\n",
      "52\n",
      "53\n",
      "Fizz\n",
      "Buzz\n",
      "56\n",
      "Fizz\n",
      "58\n",
      "59\n",
      "FizzBuzz\n"
     ]
    }
   ],
   "source": [
    "\n",
    "for num1 in range(61):\n",
    "    \n",
    "    if num1%3==0 and num1%5==0:\n",
    "        print(\"FizzBuzz\")\n",
    "        continue\n",
    "    elif num1%3==0:\n",
    "        print(\"Fizz\")\n",
    "        continue\n",
    "    elif num1%5==0:\n",
    "        print(\"Buzz\")\n",
    "        continue\n",
    "    print(num1)"
   ]
  },
  {
   "cell_type": "code",
   "execution_count": 5,
   "id": "dfbf2ac0",
   "metadata": {},
   "outputs": [
    {
     "name": "stdout",
     "output_type": "stream",
     "text": [
      "FizzBuzz\n",
      "0\n",
      "1\n",
      "2\n",
      "Fizz\n",
      "3\n",
      "4\n",
      "Buzz\n",
      "5\n",
      "Fizz\n",
      "6\n",
      "7\n",
      "8\n",
      "Fizz\n",
      "9\n",
      "Buzz\n",
      "10\n",
      "11\n",
      "Fizz\n",
      "12\n",
      "13\n",
      "14\n",
      "FizzBuzz\n",
      "15\n",
      "16\n",
      "17\n",
      "Fizz\n",
      "18\n",
      "19\n",
      "Buzz\n",
      "20\n",
      "Fizz\n",
      "21\n",
      "22\n",
      "23\n",
      "Fizz\n",
      "24\n",
      "Buzz\n",
      "25\n",
      "26\n",
      "Fizz\n",
      "27\n",
      "28\n",
      "29\n",
      "FizzBuzz\n",
      "30\n",
      "31\n",
      "32\n",
      "Fizz\n",
      "33\n",
      "34\n",
      "Buzz\n",
      "35\n",
      "Fizz\n",
      "36\n",
      "37\n",
      "38\n",
      "Fizz\n",
      "39\n",
      "Buzz\n",
      "40\n",
      "41\n",
      "Fizz\n",
      "42\n",
      "43\n",
      "44\n",
      "FizzBuzz\n",
      "45\n",
      "46\n",
      "47\n",
      "Fizz\n",
      "48\n",
      "49\n",
      "Buzz\n",
      "50\n",
      "Fizz\n",
      "51\n",
      "52\n",
      "53\n",
      "Fizz\n",
      "54\n",
      "Buzz\n",
      "55\n",
      "56\n",
      "Fizz\n",
      "57\n",
      "58\n",
      "59\n",
      "FizzBuzz\n",
      "60\n"
     ]
    }
   ],
   "source": [
    "\n",
    "#num1=int(input(\"Enter a number : \"))\n",
    "num1=0\n",
    "while num1<=60:\n",
    "    if num1%3==0 and num1%5==0:\n",
    "        print(\"FizzBuzz\")\n",
    "        \n",
    "    elif num1%3==0:\n",
    "        print(\"Fizz\")\n",
    "        \n",
    "    elif num1%5==0:\n",
    "        print(\"Buzz\")   \n",
    "    print(num1)\n",
    "    num1=num1+1"
   ]
  },
  {
   "cell_type": "markdown",
   "id": "e681974e",
   "metadata": {},
   "source": [
    "#### (7) Write a python program that accepts a string and calculate the number of digits and letters."
   ]
  },
  {
   "cell_type": "code",
   "execution_count": 7,
   "id": "7d6fdd2e",
   "metadata": {},
   "outputs": [
    {
     "name": "stdout",
     "output_type": "stream",
     "text": [
      "Enter a string : sreyan@806\n",
      "no of letters :  6\n",
      "no of numbers :  3\n"
     ]
    }
   ],
   "source": [
    "str1=str(input(\"Enter a string : \"))\n",
    "letter=0\n",
    "number=0\n",
    "for i in str1:\n",
    "    if i.isalpha():\n",
    "        letter=letter+1\n",
    "    elif i.isdigit():\n",
    "        number=number+1\n",
    "    else:\n",
    "        pass\n",
    "print(\"no of letters : \",letter)\n",
    "print(\"no of numbers : \",number)\n",
    "    "
   ]
  },
  {
   "cell_type": "code",
   "execution_count": null,
   "id": "3a2c7353",
   "metadata": {},
   "outputs": [],
   "source": []
  },
  {
   "cell_type": "markdown",
   "id": "95dbbe6d",
   "metadata": {},
   "source": [
    "#### (8) Write a python program to check the validity of password input by users.\n",
    "#### Validation : \n",
    "##### At least 1 letter between [a-z] and 1 letter between [A-z].\n",
    "##### At least 1 number between [0-9].\n",
    "##### At least 1 special character .\n",
    "##### minimum length is 6 characters.\n",
    "##### Maximum length is 16 characters."
   ]
  },
  {
   "cell_type": "code",
   "execution_count": 1,
   "id": "a8da871b",
   "metadata": {},
   "outputs": [
    {
     "name": "stdout",
     "output_type": "stream",
     "text": [
      "Enter a password : Sreyan@806\n",
      "OK\n",
      "You have given valid Password.\n"
     ]
    }
   ],
   "source": [
    "password=input(\"Enter a password : \")\n",
    "lowercase=0\n",
    "uppercase=0\n",
    "num=0\n",
    "sym=0\n",
    "symbol=[\"@\",\"$\",\"#\"]\n",
    "for elements in password:\n",
    "    if elements.isalpha():\n",
    "        if elements==elements.upper():\n",
    "            uppercase+=1\n",
    "        elif elements==elements.lower():\n",
    "            lowercase+=1\n",
    "    elif elements in symbol:\n",
    "        sym+=1\n",
    "    elif int(elements) in range(0,10):\n",
    "        num+=1\n",
    "if len(password)<6:\n",
    "    print(\"Your Password must contain atleast 6 charecters\")\n",
    "elif len(password)>16:\n",
    "    print(\"Your Password length is greater than limits, Please reduce some charecters\")\n",
    "elif num==0:\n",
    "    print(\"Please include numbers inside your password\")\n",
    "elif uppercase==0:\n",
    "    print(\"Please include upperr case letters inside your password\")\n",
    "elif lowercase==0:\n",
    "    print(\"Please include lower case letters inside your password\")\n",
    "else:\n",
    "    print(\"OK\\nYou have given valid Password.\")\n",
    "\n"
   ]
  },
  {
   "cell_type": "code",
   "execution_count": null,
   "id": "e525d29f",
   "metadata": {},
   "outputs": [],
   "source": []
  },
  {
   "cell_type": "markdown",
   "id": "22bc352c",
   "metadata": {},
   "source": [
    "#### (9) Write a program in python to reverse a word by using while loop."
   ]
  },
  {
   "cell_type": "code",
   "execution_count": 5,
   "id": "fcb76bd3",
   "metadata": {},
   "outputs": [
    {
     "name": "stdout",
     "output_type": "stream",
     "text": [
      "Enter a string : Innomatic Research Lab\n",
      "The reverse string is :  baL hcraeseR citamonnI\n"
     ]
    }
   ],
   "source": [
    "str2=str(input(\"Enter a string : \"))\n",
    "reverse=\"\"\n",
    "length=len(str2)-1\n",
    "while length>=0:\n",
    "    reverse=reverse+str2[length]\n",
    "    length=length-1\n",
    "print(\"The reverse string is : \",reverse)"
   ]
  },
  {
   "cell_type": "code",
   "execution_count": null,
   "id": "d3e579db",
   "metadata": {},
   "outputs": [],
   "source": []
  },
  {
   "cell_type": "markdown",
   "id": "65503dee",
   "metadata": {},
   "source": [
    "#### (10) Write a program which takes 10 integers as input using loop and print their avarage value on the screen."
   ]
  },
  {
   "cell_type": "code",
   "execution_count": 2,
   "id": "b2105b9f",
   "metadata": {},
   "outputs": [
    {
     "name": "stdout",
     "output_type": "stream",
     "text": [
      "Enter a number : 12\n",
      "Enter a number : 3\n",
      "Enter a number : 4\n",
      "Enter a number : 5\n",
      "Enter a number : 89\n",
      "Enter a number : 100\n",
      "Enter a number : 30\n",
      "Enter a number : 33\n",
      "Enter a number : 77\n",
      "Enter a number : 98\n",
      "the avg value is :  45.0\n"
     ]
    }
   ],
   "source": [
    "sum1=0\n",
    "for i in range(10):\n",
    "    num=float(input(\"Enter a number : \"))\n",
    "    sum1=sum1+num\n",
    "avg=sum1//10\n",
    "print(\"the avg value is : \",avg)"
   ]
  },
  {
   "cell_type": "markdown",
   "id": "c323d8ef",
   "metadata": {},
   "source": [
    "#### (11) Write a program which takes integer inputs from user untill he/she presses \"q\" (Ask to press q to quit after every integer input).Print average and product of all numbers. "
   ]
  },
  {
   "cell_type": "code",
   "execution_count": 2,
   "id": "04d6d852",
   "metadata": {},
   "outputs": [
    {
     "name": "stdout",
     "output_type": "stream",
     "text": [
      "enter numbers in the provided boxes findout their average and the product :\n",
      "give a number : 54\n",
      "if you want to exit press - q\n",
      "give a number : 2\n",
      "if you want to exit press - q\n",
      "give a number : 89\n",
      "if you want to exit press - q\n",
      "give a number : 62\n",
      "if you want to exit press - q\n",
      "give a number : 16\n",
      "if you want to exit press - q\n",
      "give a number : 3\n",
      "if you want to exit press - q\n",
      "give a number : q\n",
      "\n",
      "Product = 28605312\n",
      "Average = 37.666666666666664\n"
     ]
    }
   ],
   "source": [
    "print(\"enter numbers in the provided boxes findout their average and the product :\")\n",
    "numbers=[]\n",
    "newnum=[]\n",
    "product=1\n",
    "while True:\n",
    "    num=input(\"give a number : \")\n",
    "    if num==\"q\":\n",
    "        break\n",
    "    print(\"if you want to exit press - q\")\n",
    "    numbers.append(num)\n",
    "for j in numbers:\n",
    "    a=int(j)\n",
    "    newnum.append(a)\n",
    "for i in newnum:\n",
    "    product=product*i\n",
    "total=sum(newnum)\n",
    "average=total/len(newnum)\n",
    "print(\"\\nProduct = {}\".format(product))\n",
    "print(\"Average = {}\".format(average))\n"
   ]
  },
  {
   "cell_type": "code",
   "execution_count": null,
   "id": "e6e86eca",
   "metadata": {},
   "outputs": [],
   "source": []
  },
  {
   "cell_type": "markdown",
   "id": "ceb8000d",
   "metadata": {},
   "source": [
    "#### (12) Write a program which will remove all digits or any other characters from the string except alphabates."
   ]
  },
  {
   "cell_type": "code",
   "execution_count": 3,
   "id": "abdde71f",
   "metadata": {},
   "outputs": [
    {
     "name": "stdout",
     "output_type": "stream",
     "text": [
      "Type your input here : shdehjd78l\n",
      "shdehjdl\n"
     ]
    }
   ],
   "source": [
    "name=input(\"Type your input here : \")\n",
    "new=\"\"\n",
    "for letters in name:\n",
    "    if letters.isalpha():\n",
    "        new+=letters\n",
    "    else:\n",
    "        continue\n",
    "print(new)\n"
   ]
  },
  {
   "cell_type": "code",
   "execution_count": 4,
   "id": "d5226296",
   "metadata": {},
   "outputs": [
    {
     "name": "stdout",
     "output_type": "stream",
     "text": [
      "Type your input here : djhfh28h3i\n",
      "djhfhhi\n"
     ]
    }
   ],
   "source": [
    "name=input(\"Type your input here : \")\n",
    "new=\"\"\n",
    "x=True\n",
    "while x:\n",
    "    for letters in name:\n",
    "        if letters.isalpha():\n",
    "            new+=letters\n",
    "        else:\n",
    "            continue\n",
    "    x=False\n",
    "print(new)\n"
   ]
  },
  {
   "cell_type": "markdown",
   "id": "3b74aac6",
   "metadata": {},
   "source": [
    "#### (13) Write a python program to find the sum of all even numbers from 0 to 10."
   ]
  },
  {
   "cell_type": "code",
   "execution_count": 5,
   "id": "6d676644",
   "metadata": {},
   "outputs": [
    {
     "name": "stdout",
     "output_type": "stream",
     "text": [
      "Sum of all even numbers from 0 to 10 are :-. 30\n"
     ]
    }
   ],
   "source": [
    "total=0\n",
    "for num in range(0,11):\n",
    "    if num%2==0:\n",
    "        total+=num\n",
    "print(\"Sum of all even numbers from 0 to 10 are :-. {}\".format(total))\n"
   ]
  },
  {
   "cell_type": "code",
   "execution_count": 6,
   "id": "eba1a625",
   "metadata": {},
   "outputs": [
    {
     "name": "stdout",
     "output_type": "stream",
     "text": [
      "Sum of all even numbers from 0 to 10 are :-. 30\n"
     ]
    }
   ],
   "source": [
    "total=0\n",
    "x=True\n",
    "while x:\n",
    "    for num in range(0,11):\n",
    "        if num%2==0:\n",
    "            total+=num\n",
    "    x=False\n",
    "print(\"Sum of all even numbers from 0 to 10 are :-. {}\".format(total))"
   ]
  },
  {
   "cell_type": "markdown",
   "id": "9ade49ea",
   "metadata": {},
   "source": [
    "#### (14) Write a python program which will accepet a digit and print all the numbers before it till 0"
   ]
  },
  {
   "cell_type": "code",
   "execution_count": 7,
   "id": "0c529db1",
   "metadata": {},
   "outputs": [
    {
     "name": "stdout",
     "output_type": "stream",
     "text": [
      "Provide a number : 15\n",
      "15\n",
      "14\n",
      "13\n",
      "12\n",
      "11\n",
      "10\n",
      "9\n",
      "8\n",
      "7\n",
      "6\n",
      "5\n",
      "4\n",
      "3\n",
      "2\n",
      "1\n",
      "0\n"
     ]
    }
   ],
   "source": [
    "\n",
    "number=int(input(\"Provide a number : \"))\n",
    "\n",
    "while number>=0:\n",
    "    print(number)\n",
    "    number-=1\n"
   ]
  },
  {
   "cell_type": "markdown",
   "id": "c993d7df",
   "metadata": {},
   "source": [
    "#### (15) Create a dynamic calculator which will run continously till you press \"c\"."
   ]
  },
  {
   "cell_type": "code",
   "execution_count": 8,
   "id": "16bec9b8",
   "metadata": {},
   "outputs": [
    {
     "name": "stdout",
     "output_type": "stream",
     "text": [
      "num 1 : 45\n",
      "choose any symbol from +,-,*,/ : *\n",
      "num 2 : 56\n",
      "45 * 56 = 2520\n",
      "Press c to close : 9\n",
      "45 * 56 = 2520\n",
      "Press c to close : c\n"
     ]
    }
   ],
   "source": [
    "a=int(input(\"num 1 : \"))\n",
    "x=input(\"choose any symbol from +,-,*,/ : \")\n",
    "b=int(input(\"num 2 : \"))\n",
    "while True:\n",
    "    if x==\"+\":\n",
    "        print(\"{} {} {} = {}\".format(a,x,b,a+b))\n",
    "    elif x==\"-\":\n",
    "        print(\"{} {} {} = {}\".format(a,x,b,a-b))\n",
    "    elif x==\"*\":\n",
    "        print(\"{} {} {} = {}\".format(a,x,b,a*b))\n",
    "    elif x==\"/\":\n",
    "        print(\"{} {} {} = {}\".format(a,x,b,a/b))\n",
    "    new=input(\"Press c to close : \")\n",
    "    if new==\"c\" or new==\"C\":\n",
    "        break"
   ]
  },
  {
   "cell_type": "code",
   "execution_count": null,
   "id": "da5c7a71",
   "metadata": {},
   "outputs": [],
   "source": []
  }
 ],
 "metadata": {
  "kernelspec": {
   "display_name": "Python 3 (ipykernel)",
   "language": "python",
   "name": "python3"
  },
  "language_info": {
   "codemirror_mode": {
    "name": "ipython",
    "version": 3
   },
   "file_extension": ".py",
   "mimetype": "text/x-python",
   "name": "python",
   "nbconvert_exporter": "python",
   "pygments_lexer": "ipython3",
   "version": "3.9.12"
  }
 },
 "nbformat": 4,
 "nbformat_minor": 5
}
