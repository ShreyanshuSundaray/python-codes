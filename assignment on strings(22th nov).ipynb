{
 "cells": [
  {
   "cell_type": "code",
   "execution_count": 6,
   "id": "a88abd17",
   "metadata": {},
   "outputs": [
    {
     "name": "stdout",
     "output_type": "stream",
     "text": [
      "Enter a word : SHREYANSHU SUNDARAY\n",
      "shreyanshu sundaray\n"
     ]
    }
   ],
   "source": [
    "# Write program to convet a string to lower case.\n",
    "\n",
    "str1=input('Enter a word : ')\n",
    "for y in str1:\n",
    "    y=str1.lower()\n",
    "print(y)\n"
   ]
  },
  {
   "cell_type": "code",
   "execution_count": null,
   "id": "e435a918",
   "metadata": {},
   "outputs": [],
   "source": []
  },
  {
   "cell_type": "code",
   "execution_count": 2,
   "id": "eda880c0",
   "metadata": {},
   "outputs": [
    {
     "name": "stdout",
     "output_type": "stream",
     "text": [
      "Enter a word : SREYAN\n",
      "SrEyAn\n"
     ]
    }
   ],
   "source": [
    "#Write a python program to convert only odd indexed characters to lower case.\n",
    "\n",
    "s=input('Enter a word : ')\n",
    "for a in range(len(s)):\n",
    "    if a%2!=0:\n",
    "        s=s.replace(s[a],s[a].lower())\n",
    "print(s)\n",
    "    \n",
    "    \n"
   ]
  },
  {
   "cell_type": "code",
   "execution_count": null,
   "id": "80143465",
   "metadata": {},
   "outputs": [],
   "source": []
  },
  {
   "cell_type": "code",
   "execution_count": 6,
   "id": "3d708b9f",
   "metadata": {},
   "outputs": [
    {
     "name": "stdout",
     "output_type": "stream",
     "text": [
      "Enter a word : SREYAN\n",
      "sReYaN\n"
     ]
    }
   ],
   "source": [
    "# Write a python program to convert only even indexed characters to lower case.\n",
    "\n",
    "a=input('Enter a word : ')\n",
    "for x in range(len(a)):\n",
    "    if x%2==0:\n",
    "        a=a.replace(a[x],a[x].lower())\n",
    "print(a)\n",
    "    \n",
    "\n"
   ]
  },
  {
   "cell_type": "code",
   "execution_count": null,
   "id": "d2cd89fd",
   "metadata": {},
   "outputs": [],
   "source": []
  },
  {
   "cell_type": "code",
   "execution_count": 7,
   "id": "949fe5b4",
   "metadata": {},
   "outputs": [
    {
     "name": "stdout",
     "output_type": "stream",
     "text": [
      "Enter a word : sreyan\n",
      "sReYaN\n"
     ]
    }
   ],
   "source": [
    "#Write a program to convert only odd indexed character to upper case.\n",
    "\n",
    "s=input('Enter a word : ')\n",
    "for a in range(len(s)):\n",
    "    if a%2!=0:\n",
    "        s=s.replace(s[a],s[a].upper())\n",
    "print(s)\n",
    "    \n",
    "    \n"
   ]
  },
  {
   "cell_type": "code",
   "execution_count": null,
   "id": "d30b0e58",
   "metadata": {},
   "outputs": [],
   "source": []
  },
  {
   "cell_type": "code",
   "execution_count": 10,
   "id": "bfa9a904",
   "metadata": {},
   "outputs": [
    {
     "name": "stdout",
     "output_type": "stream",
     "text": [
      "Enter a word : sreyan\n",
      "SrEyAn\n"
     ]
    }
   ],
   "source": [
    "#Write a python program to convert only even indexed characters to upper case.\n",
    "\n",
    "s=input('Enter a word : ')\n",
    "for a in range(len(s)):\n",
    "    if a%2==0:\n",
    "        s=s.replace(s[a],s[a].upper())\n",
    "print(s)\n",
    "    \n",
    "    \n"
   ]
  },
  {
   "cell_type": "code",
   "execution_count": null,
   "id": "68029933",
   "metadata": {},
   "outputs": [],
   "source": []
  },
  {
   "cell_type": "markdown",
   "id": "94361212",
   "metadata": {},
   "source": [
    "#### Write a python program wher you have different variables which contains your name,sex,age,phonen no,fathers name and mothers name and by using this variable create a variable named bio-data where you will use all this variable.\n",
    "\n"
   ]
  },
  {
   "cell_type": "code",
   "execution_count": 36,
   "id": "8d888546",
   "metadata": {},
   "outputs": [
    {
     "name": "stdout",
     "output_type": "stream",
     "text": [
      "My name is Shreyanshu Sundaray My age is 22 My sex is male My contact is 9178066998 My fathers name is Niranjan Sundaray My mothers name is Sunita Sundaray.\n"
     ]
    }
   ],
   "source": [
    "name='Shreyanshu Sundaray'\n",
    "age=22\n",
    "sex='male'\n",
    "phoneno=9178066998\n",
    "fathersname='Niranjan Sundaray'\n",
    "mothersname='Sunita Sundaray'\n",
    "bio_data='My name is {} My age is {} My sex is {} My contact is {} My fathers name is {} My mothers name is {}.'.format(name,age,sex,phoneno,fathersname,mothersname)\n",
    "print(bio_data)"
   ]
  },
  {
   "cell_type": "code",
   "execution_count": null,
   "id": "b137b0a8",
   "metadata": {},
   "outputs": [],
   "source": []
  },
  {
   "cell_type": "code",
   "execution_count": 37,
   "id": "e7356f2f",
   "metadata": {},
   "outputs": [
    {
     "data": {
      "text/plain": [
       "14"
      ]
     },
     "execution_count": 37,
     "metadata": {},
     "output_type": "execute_result"
    }
   ],
   "source": [
    "#Write a python program to count howmany times '@' occured.\n",
    "\n",
    "a=\"\"\"@@@Write a python@ program wher you@ have different variables @which contains your name\n",
    ",sex,age,phonen@ no,fathers name and@ mothers name and by using this variable@ create a variable \n",
    "named @bio-data where you will use all@ this variable@@@.\"\"\"\n",
    "\n",
    "a.count('@')"
   ]
  },
  {
   "cell_type": "code",
   "execution_count": null,
   "id": "b9893385",
   "metadata": {},
   "outputs": [],
   "source": []
  },
  {
   "cell_type": "code",
   "execution_count": 41,
   "id": "b2ad3d45",
   "metadata": {},
   "outputs": [
    {
     "name": "stdout",
     "output_type": "stream",
     "text": [
      "name1,\n",
      "     name2,\n",
      "     name3,\n"
     ]
    }
   ],
   "source": [
    "#Write a python program to get only names from the string.\n",
    "\n",
    "x=\"\"\"name1.@gmail.com\n",
    "     name2.@gmail.com\n",
    "     name3.@gmail.com\"\"\"\n",
    "\n",
    "y=x.replace('.@gmail.com',',')\n",
    "print(y)"
   ]
  },
  {
   "cell_type": "code",
   "execution_count": null,
   "id": "43172e0c",
   "metadata": {},
   "outputs": [],
   "source": []
  },
  {
   "cell_type": "code",
   "execution_count": 42,
   "id": "edb042c7",
   "metadata": {},
   "outputs": [
    {
     "name": "stdout",
     "output_type": "stream",
     "text": [
      "yan\n"
     ]
    }
   ],
   "source": [
    "#Given a string of odd length greater than 9 return a new string made of the middle three characters of a given string.\n",
    "\n",
    "a='shreyanshu '\n",
    "print(a[4:7])\n"
   ]
  },
  {
   "cell_type": "code",
   "execution_count": null,
   "id": "ea43c9f5",
   "metadata": {},
   "outputs": [],
   "source": []
  },
  {
   "cell_type": "code",
   "execution_count": 44,
   "id": "800dfb09",
   "metadata": {},
   "outputs": [
    {
     "name": "stdout",
     "output_type": "stream",
     "text": [
      "sreyan\n"
     ]
    }
   ],
   "source": [
    "# Write a python program to insert a 2 string in the middle of 1 string.\n",
    "\n",
    "str1='syan'\n",
    "str2='re'\n",
    "x=str1[0]+str2[:2]+str1[1:4]\n",
    "print(x)"
   ]
  },
  {
   "cell_type": "code",
   "execution_count": null,
   "id": "95cd869a",
   "metadata": {},
   "outputs": [],
   "source": []
  },
  {
   "cell_type": "code",
   "execution_count": 47,
   "id": "8f01defa",
   "metadata": {},
   "outputs": [
    {
     "name": "stdout",
     "output_type": "stream",
     "text": [
      "After remove vowels :  kfsjfspwjjjmdf\n"
     ]
    }
   ],
   "source": [
    "# Write a program to write vowels from the entire alphabates.\n",
    "\n",
    "alphabates=\"kfsjfsaepoweiajjjeomudaef\"\n",
    "\n",
    "vowels=['a','e','i','o','u']\n",
    "consonants=\"\"\n",
    "for x in alphabates:\n",
    "    if x  not in vowels:\n",
    "        consonants=consonants+x\n",
    "print('After remove vowels : ' ,consonants)\n",
    "        \n",
    "    \n"
   ]
  },
  {
   "cell_type": "code",
   "execution_count": null,
   "id": "d7e29936",
   "metadata": {},
   "outputs": [],
   "source": []
  }
 ],
 "metadata": {
  "kernelspec": {
   "display_name": "Python 3 (ipykernel)",
   "language": "python",
   "name": "python3"
  },
  "language_info": {
   "codemirror_mode": {
    "name": "ipython",
    "version": 3
   },
   "file_extension": ".py",
   "mimetype": "text/x-python",
   "name": "python",
   "nbconvert_exporter": "python",
   "pygments_lexer": "ipython3",
   "version": "3.9.12"
  }
 },
 "nbformat": 4,
 "nbformat_minor": 5
}
