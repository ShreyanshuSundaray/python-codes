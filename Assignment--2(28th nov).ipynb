{
 "cells": [
  {
   "cell_type": "markdown",
   "id": "1bada4d3",
   "metadata": {},
   "source": [
    "#### (1) Write down a program to accept two numbers from the user and calculate multiplication , divison."
   ]
  },
  {
   "cell_type": "code",
   "execution_count": 1,
   "id": "d2d1d6bd",
   "metadata": {},
   "outputs": [],
   "source": [
    "def f1(num1,num2,symbol):\n",
    "    if symbol==\"+\":\n",
    "        print(num1+num2)\n",
    "    elif symbol==\"/\":\n",
    "        print(num1/num2)\n",
    "    \n",
    "    "
   ]
  },
  {
   "cell_type": "code",
   "execution_count": 2,
   "id": "229f8e78",
   "metadata": {},
   "outputs": [
    {
     "name": "stdout",
     "output_type": "stream",
     "text": [
      "150\n",
      "2.0\n"
     ]
    }
   ],
   "source": [
    "f1(70,80,\"+\")\n",
    "f1(40,20,\"/\")"
   ]
  },
  {
   "cell_type": "markdown",
   "id": "95310204",
   "metadata": {},
   "source": [
    "#### (2) Write a python program to print the characters from a string that are present at an even index."
   ]
  },
  {
   "cell_type": "code",
   "execution_count": 8,
   "id": "415cb781",
   "metadata": {},
   "outputs": [],
   "source": [
    "def evenchar(x):\n",
    "    for i in range(len(x)):\n",
    "        if i%2==0:\n",
    "            print(x[i])"
   ]
  },
  {
   "cell_type": "code",
   "execution_count": 9,
   "id": "f862732d",
   "metadata": {},
   "outputs": [
    {
     "name": "stdout",
     "output_type": "stream",
     "text": [
      "s\n",
      "l\n",
      "s\n",
      "j\n",
      "w\n",
      "j\n",
      "i\n"
     ]
    }
   ],
   "source": [
    "evenchar('sklvsfjfwijrii')"
   ]
  },
  {
   "cell_type": "markdown",
   "id": "83470b90",
   "metadata": {},
   "source": [
    "#### (3) Write a python program to print the characters from a string that are present at an odd index."
   ]
  },
  {
   "cell_type": "code",
   "execution_count": 12,
   "id": "68843081",
   "metadata": {},
   "outputs": [],
   "source": [
    "def oddchar(y):\n",
    "    for i in range(len(y)):\n",
    "        if i%2!=0:\n",
    "            print(y[i])"
   ]
  },
  {
   "cell_type": "code",
   "execution_count": 14,
   "id": "ffcbab38",
   "metadata": {},
   "outputs": [
    {
     "name": "stdout",
     "output_type": "stream",
     "text": [
      "d\n",
      "w\n",
      "r\n",
      "i\n",
      "b\n"
     ]
    }
   ],
   "source": [
    "oddchar('hdowfruifbj')"
   ]
  },
  {
   "cell_type": "markdown",
   "id": "cb9a05cf",
   "metadata": {},
   "source": [
    "#### (4) Write a python program which will print the sum of the 2 numbers if the 2 numbers are even or it will print the difference of 2 numbers. "
   ]
  },
  {
   "cell_type": "code",
   "execution_count": 20,
   "id": "816a173d",
   "metadata": {},
   "outputs": [
    {
     "name": "stdout",
     "output_type": "stream",
     "text": [
      "Enter 1st number : 40\n",
      "Enter 2nd number : 25\n",
      "15\n"
     ]
    }
   ],
   "source": [
    "num1=int(input('Enter 1st number : '))\n",
    "num2=int(input('Enter 2nd number : '))\n",
    "if num1%2==0 and num2%2==0:\n",
    "    print(num1+num2)\n",
    "else:\n",
    "    print(num1-num2)"
   ]
  },
  {
   "cell_type": "markdown",
   "id": "6aa861c9",
   "metadata": {},
   "source": [
    "#### (5) Write a python program to convert all even indexed alphabates to upper and odd indexed char lower."
   ]
  },
  {
   "cell_type": "code",
   "execution_count": 23,
   "id": "4d29dbdc",
   "metadata": {},
   "outputs": [],
   "source": [
    "def odd_evenchar(s):\n",
    "    for x in range(len(s)):\n",
    "        if x%2==0:\n",
    "            print(s[x].upper())\n",
    "        else:\n",
    "            print(s[x].lower())"
   ]
  },
  {
   "cell_type": "code",
   "execution_count": 24,
   "id": "8f50d1ec",
   "metadata": {},
   "outputs": [
    {
     "name": "stdout",
     "output_type": "stream",
     "text": [
      "S\n",
      "h\n",
      "R\n",
      "e\n",
      "Y\n",
      "a\n",
      "N\n",
      "s\n",
      "H\n",
      "u\n"
     ]
    }
   ],
   "source": [
    "odd_evenchar(\"shreYANshu\")"
   ]
  },
  {
   "cell_type": "markdown",
   "id": "3f23d785",
   "metadata": {},
   "source": [
    "#### (6) Write a python program which will print True if the input number is divisible by 5 or else false"
   ]
  },
  {
   "cell_type": "code",
   "execution_count": 25,
   "id": "a579ef06",
   "metadata": {},
   "outputs": [],
   "source": [
    "def f3(x):\n",
    "    if x%5==0:\n",
    "        print('True')\n",
    "    else:\n",
    "        print('False')"
   ]
  },
  {
   "cell_type": "code",
   "execution_count": 26,
   "id": "15e8fb6e",
   "metadata": {},
   "outputs": [
    {
     "name": "stdout",
     "output_type": "stream",
     "text": [
      "True\n"
     ]
    }
   ],
   "source": [
    "f3(50)"
   ]
  },
  {
   "cell_type": "code",
   "execution_count": 27,
   "id": "62511478",
   "metadata": {},
   "outputs": [
    {
     "name": "stdout",
     "output_type": "stream",
     "text": [
      "False\n"
     ]
    }
   ],
   "source": [
    "f3(34)"
   ]
  },
  {
   "cell_type": "markdown",
   "id": "be2ecf08",
   "metadata": {},
   "source": [
    "#### (7) Given two integer numbers return their product only if the product is greater than 1000,else return their sum."
   ]
  },
  {
   "cell_type": "code",
   "execution_count": 33,
   "id": "280ec024",
   "metadata": {},
   "outputs": [],
   "source": [
    "def ints(s,t):\n",
    "    if (s*t)>1000:\n",
    "        print(\"product of two integers : \" ,s*t)\n",
    "    else:\n",
    "        print(\"sum of two integers : \" ,s+t)"
   ]
  },
  {
   "cell_type": "code",
   "execution_count": 34,
   "id": "4cf2fd0d",
   "metadata": {},
   "outputs": [
    {
     "name": "stdout",
     "output_type": "stream",
     "text": [
      "product of two integers :  4000\n"
     ]
    }
   ],
   "source": [
    "ints(40,100)"
   ]
  },
  {
   "cell_type": "code",
   "execution_count": 35,
   "id": "046f6fa9",
   "metadata": {},
   "outputs": [
    {
     "name": "stdout",
     "output_type": "stream",
     "text": [
      "sum of two integers :  27\n"
     ]
    }
   ],
   "source": [
    "ints(22,5)"
   ]
  },
  {
   "cell_type": "markdown",
   "id": "475cb273",
   "metadata": {},
   "source": [
    "#### (8) Given two strings x,y writes a program to return a new string made of x and y's first ,middle and last characters .\n",
    "example:\n",
    "input\n",
    " x=\"pytho\"\n",
    " y=\"javas\"\n",
    " output-->\"pjtvos\""
   ]
  },
  {
   "cell_type": "code",
   "execution_count": 39,
   "id": "6a484a2c",
   "metadata": {},
   "outputs": [],
   "source": [
    "def newstr(x,y):\n",
    "    return x[0]+y[0]+x[(len(x)-1)//2:(len(x)+2)//2]+y[(len(y)-1)//2:(len(y)+2)//2]+x[-1]+y[-1]"
   ]
  },
  {
   "cell_type": "code",
   "execution_count": 41,
   "id": "d90eb424",
   "metadata": {},
   "outputs": [
    {
     "data": {
      "text/plain": [
       "'ssyaus'"
      ]
     },
     "execution_count": 41,
     "metadata": {},
     "output_type": "execute_result"
    }
   ],
   "source": [
    "newstr(\"shreyansu\",\"sundarays\")"
   ]
  },
  {
   "cell_type": "markdown",
   "id": "633ea794",
   "metadata": {},
   "source": [
    "#### (9) Write a python program to take three names as input from a user in the single input() function call.  "
   ]
  },
  {
   "cell_type": "code",
   "execution_count": 21,
   "id": "1763cf96",
   "metadata": {},
   "outputs": [
    {
     "name": "stdout",
     "output_type": "stream",
     "text": [
      "enter the names :mr Shreyanshu Sundaray\n",
      "name1 : mr\n",
      "name2 : Shreyanshu\n",
      "name3 : Sundaray\n"
     ]
    }
   ],
   "source": [
    "a=input(\"enter the names :\")\n",
    "b=a.split()\n",
    "for i in b:\n",
    "    print(\"name1 :\",b[0])\n",
    "    print(\"name2 :\",b[1])\n",
    "    print(\"name3 :\",b[2])\n",
    "    break;"
   ]
  },
  {
   "cell_type": "markdown",
   "id": "81a49883",
   "metadata": {},
   "source": [
    "#### (10) Write a python program to get a string from a given string where all occurences of its first char have been changed to \"@\" , except the first char itself. "
   ]
  },
  {
   "cell_type": "code",
   "execution_count": 49,
   "id": "fa111a76",
   "metadata": {},
   "outputs": [],
   "source": [
    "def strs(x):\n",
    "    char=x[0]\n",
    "    x=x.replace(char,\"@\")\n",
    "    x=char+x[1:]\n",
    "    return x"
   ]
  },
  {
   "cell_type": "code",
   "execution_count": 50,
   "id": "49f2f2ea",
   "metadata": {},
   "outputs": [
    {
     "data": {
      "text/plain": [
       "'sdfgh@k@'"
      ]
     },
     "execution_count": 50,
     "metadata": {},
     "output_type": "execute_result"
    }
   ],
   "source": [
    "strs(\"sdfghsks\")"
   ]
  },
  {
   "cell_type": "markdown",
   "id": "e4535ca9",
   "metadata": {},
   "source": [
    "#### (11) Write a python program to add \"ing\" at the end of a given string (len>3) if the given string already ends with \"ing\" then add \"ly\" insted.if len<3 leave unchange"
   ]
  },
  {
   "cell_type": "code",
   "execution_count": 58,
   "id": "aac54560",
   "metadata": {},
   "outputs": [],
   "source": [
    "def add(str1):\n",
    "    if len(str1)>2:\n",
    "        if str1[-3:] == \"ing\":\n",
    "            str1 += \"ly\"\n",
    "        else:\n",
    "            str1 += \"ing\"\n",
    "    return str1\n",
    "        \n",
    "            "
   ]
  },
  {
   "cell_type": "code",
   "execution_count": 59,
   "id": "3d82bdb8",
   "metadata": {},
   "outputs": [
    {
     "data": {
      "text/plain": [
       "'singly'"
      ]
     },
     "execution_count": 59,
     "metadata": {},
     "output_type": "execute_result"
    }
   ],
   "source": [
    "add(\"sing\")"
   ]
  },
  {
   "cell_type": "code",
   "execution_count": 61,
   "id": "8d57dc02",
   "metadata": {},
   "outputs": [
    {
     "data": {
      "text/plain": [
       "'playing'"
      ]
     },
     "execution_count": 61,
     "metadata": {},
     "output_type": "execute_result"
    }
   ],
   "source": [
    "add(\"play\")"
   ]
  },
  {
   "cell_type": "code",
   "execution_count": 62,
   "id": "71931687",
   "metadata": {},
   "outputs": [
    {
     "data": {
      "text/plain": [
       "'aa'"
      ]
     },
     "execution_count": 62,
     "metadata": {},
     "output_type": "execute_result"
    }
   ],
   "source": [
    "add(\"aa\")"
   ]
  },
  {
   "cell_type": "markdown",
   "id": "45d19d28",
   "metadata": {},
   "source": [
    "#### (12) Write a python program that accepts 2 inputs num1 and num2 print True if one of them is 10 or if their sum is 10 otherwise print false."
   ]
  },
  {
   "cell_type": "code",
   "execution_count": 64,
   "id": "58dd3ef9",
   "metadata": {},
   "outputs": [],
   "source": [
    "def func5(num1,num2):\n",
    "    if num1==10 or num2==10:\n",
    "        print(\"true\")\n",
    "    elif num1+num2==10:\n",
    "        print(\"true\")\n",
    "    else:\n",
    "        print('false')\n",
    "    "
   ]
  },
  {
   "cell_type": "code",
   "execution_count": 65,
   "id": "32666c36",
   "metadata": {},
   "outputs": [
    {
     "name": "stdout",
     "output_type": "stream",
     "text": [
      "true\n"
     ]
    }
   ],
   "source": [
    "func5(10,20)"
   ]
  },
  {
   "cell_type": "code",
   "execution_count": 66,
   "id": "03a64d32",
   "metadata": {},
   "outputs": [
    {
     "name": "stdout",
     "output_type": "stream",
     "text": [
      "true\n"
     ]
    }
   ],
   "source": [
    "func5(4,6)"
   ]
  },
  {
   "cell_type": "code",
   "execution_count": 68,
   "id": "26ca842c",
   "metadata": {},
   "outputs": [
    {
     "name": "stdout",
     "output_type": "stream",
     "text": [
      "false\n"
     ]
    }
   ],
   "source": [
    "func5(20,90)"
   ]
  },
  {
   "cell_type": "markdown",
   "id": "6e617b54",
   "metadata": {},
   "source": [
    "#### (13) Write a python program that accepts three inputs x,y and z print True if x*y>z otherwise false."
   ]
  },
  {
   "cell_type": "code",
   "execution_count": 72,
   "id": "019facc5",
   "metadata": {},
   "outputs": [],
   "source": [
    "a=list(map(lambda x,y,z:x*y>z ,[2],[3],[10]))"
   ]
  },
  {
   "cell_type": "code",
   "execution_count": 73,
   "id": "3bff72e2",
   "metadata": {},
   "outputs": [
    {
     "data": {
      "text/plain": [
       "[False]"
      ]
     },
     "execution_count": 73,
     "metadata": {},
     "output_type": "execute_result"
    }
   ],
   "source": [
    "a"
   ]
  },
  {
   "cell_type": "code",
   "execution_count": 74,
   "id": "22ed104a",
   "metadata": {},
   "outputs": [],
   "source": [
    "a=list(map(lambda x,y,z:x*y>z ,[2],[6],[10]))"
   ]
  },
  {
   "cell_type": "code",
   "execution_count": 75,
   "id": "dab8915a",
   "metadata": {},
   "outputs": [
    {
     "data": {
      "text/plain": [
       "[True]"
      ]
     },
     "execution_count": 75,
     "metadata": {},
     "output_type": "execute_result"
    }
   ],
   "source": [
    "a"
   ]
  },
  {
   "cell_type": "code",
   "execution_count": 76,
   "id": "4d1cf66a",
   "metadata": {},
   "outputs": [],
   "source": [
    "def func6(x,y,z):\n",
    "    if x*y>z:\n",
    "        print(\"true\")\n",
    "    else:\n",
    "        print(\"false\")"
   ]
  },
  {
   "cell_type": "code",
   "execution_count": 77,
   "id": "6b555dd7",
   "metadata": {},
   "outputs": [
    {
     "name": "stdout",
     "output_type": "stream",
     "text": [
      "true\n"
     ]
    }
   ],
   "source": [
    "func6(4,7,1)"
   ]
  },
  {
   "cell_type": "code",
   "execution_count": 78,
   "id": "7fa5c25d",
   "metadata": {},
   "outputs": [
    {
     "name": "stdout",
     "output_type": "stream",
     "text": [
      "false\n"
     ]
    }
   ],
   "source": [
    "func6(1,2,7)"
   ]
  },
  {
   "cell_type": "markdown",
   "id": "a1acf07a",
   "metadata": {},
   "source": [
    "#### (14) Write a python program that accepts 2 strings inputs return True depending on wheather the total number of characters in the 1st string is equal to the total number of characters in the 2nd string."
   ]
  },
  {
   "cell_type": "code",
   "execution_count": 79,
   "id": "0f384943",
   "metadata": {},
   "outputs": [],
   "source": [
    "def str2(x,y):\n",
    "    if len(x)==len(y):\n",
    "        print(\"True\")\n",
    "    else:\n",
    "        print(\"False\")"
   ]
  },
  {
   "cell_type": "code",
   "execution_count": 80,
   "id": "3639e4b6",
   "metadata": {},
   "outputs": [
    {
     "name": "stdout",
     "output_type": "stream",
     "text": [
      "True\n"
     ]
    }
   ],
   "source": [
    "str2(\"aaaa\",\"bbbb\")"
   ]
  },
  {
   "cell_type": "code",
   "execution_count": 81,
   "id": "024e316e",
   "metadata": {},
   "outputs": [
    {
     "name": "stdout",
     "output_type": "stream",
     "text": [
      "False\n"
     ]
    }
   ],
   "source": [
    "str2(\"a\",\"bbb\")"
   ]
  },
  {
   "cell_type": "code",
   "execution_count": 85,
   "id": "a664bcb5",
   "metadata": {},
   "outputs": [
    {
     "data": {
      "text/plain": [
       "[True]"
      ]
     },
     "execution_count": 85,
     "metadata": {},
     "output_type": "execute_result"
    }
   ],
   "source": [
    "s=list(map(lambda x,y:len(x)==len(y) ,[\"aaaa\"],[\"xxxx\"]))\n",
    "s"
   ]
  },
  {
   "cell_type": "markdown",
   "id": "90d1c582",
   "metadata": {},
   "source": [
    "#### (15) Write a python program that takes a string input,we'll say that the front is the 1st three characters of the string.if the string length is less than 3 charactrers ,the front is whatever is there .Return a new string ,which is three copies of the front.  "
   ]
  },
  {
   "cell_type": "code",
   "execution_count": 1,
   "id": "bb45399d",
   "metadata": {},
   "outputs": [
    {
     "name": "stdout",
     "output_type": "stream",
     "text": [
      "Enter a string : abcd\n",
      "abc abc abc\n"
     ]
    }
   ],
   "source": [
    "a=input(\"Enter a string : \")\n",
    "if len(a)<3:\n",
    "    print(a)\n",
    "else:\n",
    "    x=a[0:3]\n",
    "    print(x,x,x)"
   ]
  },
  {
   "cell_type": "markdown",
   "id": "a9bd1922",
   "metadata": {},
   "source": [
    "#### (16) Write a python program that takes in a word and determines wheather or not it is a plural. a plural word is one that ends in \"s\"."
   ]
  },
  {
   "cell_type": "code",
   "execution_count": 10,
   "id": "b2d5de0c",
   "metadata": {},
   "outputs": [],
   "source": [
    "def word(x):\n",
    "    if x[-1]==\"s\" or x[-1]==\"S\":\n",
    "        print(\"the word {} is plural\".format(x))\n",
    "    else:\n",
    "        print(\"the word {} is singular\".format(x))"
   ]
  },
  {
   "cell_type": "code",
   "execution_count": 12,
   "id": "edb8dc8a",
   "metadata": {},
   "outputs": [
    {
     "name": "stdout",
     "output_type": "stream",
     "text": [
      "the word mangoes is plural\n"
     ]
    }
   ],
   "source": [
    "word('mangoes')"
   ]
  },
  {
   "cell_type": "code",
   "execution_count": 13,
   "id": "cd309e70",
   "metadata": {},
   "outputs": [
    {
     "name": "stdout",
     "output_type": "stream",
     "text": [
      "the word apple is singular\n"
     ]
    }
   ],
   "source": [
    "word('apple')"
   ]
  },
  {
   "cell_type": "markdown",
   "id": "61e782aa",
   "metadata": {},
   "source": [
    "#### (17) A bartender is writing a simple program to determine wheather he should serve drinks to someone .He only serves drinks to people 18 and older and when he's not on break.Given the persons age ,and wheather break time is in session ,create a python program which prints wheather he should serve drinks or not."
   ]
  },
  {
   "cell_type": "code",
   "execution_count": 14,
   "id": "da5457ee",
   "metadata": {},
   "outputs": [
    {
     "name": "stdout",
     "output_type": "stream",
     "text": [
      "Enter the persons age : 25\n",
      "he will serve drink\n"
     ]
    }
   ],
   "source": [
    "x=int(input(\"Enter the persons age : \"))\n",
    "if x>=18:\n",
    "    print(\"he will serve drink\")\n",
    "else:\n",
    "    print(\"he should not serve drink\")"
   ]
  },
  {
   "cell_type": "markdown",
   "id": "38966db9",
   "metadata": {},
   "source": [
    "#### (18) Manoj kumar has family and friends .Help him remind them who is who.Given a string with a name ,return the relation of that person to Manoj kumar.\n",
    "person relation:\n",
    "1)Shiva father\n",
    "2)Letha mother\n",
    "3)Tarun brother\n"
   ]
  },
  {
   "cell_type": "code",
   "execution_count": 15,
   "id": "a4dac7e7",
   "metadata": {},
   "outputs": [],
   "source": [
    "def relation(x):\n",
    "    if x==\"Shiva\":\n",
    "        print(\"{} is manoj kumar's father\".format(x))\n",
    "    elif x==\"Letha\":\n",
    "        print(\"{} is manoj kumar's mother\".format(x))\n",
    "    elif x==\"Tarun\":\n",
    "        print(\"{} is manoj kumar's brother\".format(x))"
   ]
  },
  {
   "cell_type": "code",
   "execution_count": 16,
   "id": "1c01c056",
   "metadata": {},
   "outputs": [
    {
     "name": "stdout",
     "output_type": "stream",
     "text": [
      "Tarun is manoj kumar's brother\n"
     ]
    }
   ],
   "source": [
    "relation(\"Tarun\")"
   ]
  },
  {
   "cell_type": "code",
   "execution_count": 17,
   "id": "d288ee3f",
   "metadata": {},
   "outputs": [
    {
     "name": "stdout",
     "output_type": "stream",
     "text": [
      "Letha is manoj kumar's mother\n"
     ]
    }
   ],
   "source": [
    "relation(\"Letha\")"
   ]
  },
  {
   "cell_type": "markdown",
   "id": "e38a8e2b",
   "metadata": {},
   "source": [
    "#### (19) Write a python program tha takes a string,breaks it up and returns it with vowels first ,consonants second .For any character that's not a vowel(like special characters or spaces),treat them like consonants. "
   ]
  },
  {
   "cell_type": "code",
   "execution_count": 19,
   "id": "3fa2289b",
   "metadata": {},
   "outputs": [
    {
     "name": "stdout",
     "output_type": "stream",
     "text": [
      "asciobu $z@\n",
      "aiouscb $z@\n"
     ]
    }
   ],
   "source": [
    "string=input()\n",
    "vowels=\"\"\n",
    "consonants=\"\"\n",
    "for letters in string:\n",
    "    if letters in [\"a\",\"e\",\"i\",\"o\",\"u\",\"A\",\"E\",\"I\",\"O\",\"U\"]:\n",
    "        vowels+=letters\n",
    "    else:\n",
    "        consonants+=letters\n",
    "print(vowels+consonants)"
   ]
  },
  {
   "cell_type": "markdown",
   "id": "2bec8b37",
   "metadata": {},
   "source": [
    "#### (20) Create a dynamic calculator which asks for numbers and operator and return the answers."
   ]
  },
  {
   "cell_type": "code",
   "execution_count": 20,
   "id": "261b77c6",
   "metadata": {},
   "outputs": [
    {
     "name": "stdout",
     "output_type": "stream",
     "text": [
      "Enter 1st number : 10\n",
      "Enter a symbol : **\n",
      "Enter 2nd number : 2\n",
      "100\n"
     ]
    }
   ],
   "source": [
    "num1=int(input(\"Enter 1st number : \"))\n",
    "x=input(\"Enter a symbol : \")\n",
    "num2=int(input(\"Enter 2nd number : \"))\n",
    "if x==\"+\":\n",
    "    print(num1+num2)\n",
    "elif x==\"-\":\n",
    "    print(num1-num2)\n",
    "elif x==\"*\":\n",
    "    print(num1*num2)\n",
    "elif x==\"/\":\n",
    "    print(num1/num2)\n",
    "elif x==\"**\":\n",
    "    print(num1**num2)\n",
    "else:\n",
    "    print(\"You have given wrong input.\")"
   ]
  },
  {
   "cell_type": "code",
   "execution_count": null,
   "id": "a4a42c4f",
   "metadata": {},
   "outputs": [],
   "source": []
  }
 ],
 "metadata": {
  "kernelspec": {
   "display_name": "Python 3 (ipykernel)",
   "language": "python",
   "name": "python3"
  },
  "language_info": {
   "codemirror_mode": {
    "name": "ipython",
    "version": 3
   },
   "file_extension": ".py",
   "mimetype": "text/x-python",
   "name": "python",
   "nbconvert_exporter": "python",
   "pygments_lexer": "ipython3",
   "version": "3.9.12"
  }
 },
 "nbformat": 4,
 "nbformat_minor": 5
}
