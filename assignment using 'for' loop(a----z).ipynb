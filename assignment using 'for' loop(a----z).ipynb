{
 "cells": [
  {
   "cell_type": "code",
   "execution_count": 10,
   "id": "14559ea6",
   "metadata": {},
   "outputs": [
    {
     "name": "stdout",
     "output_type": "stream",
     "text": [
      "  ***\n",
      "    *\n",
      "*****\n",
      "*   *\n",
      "*****\n"
     ]
    }
   ],
   "source": [
    "for s in range(6):\n",
    "    if s==1:\n",
    "        print('  ***')\n",
    "    elif s==2:\n",
    "        print('    *')\n",
    "    elif s==3:\n",
    "        print('*****')\n",
    "    elif s==4:\n",
    "        print('*   *')\n",
    "    elif s==5:\n",
    "        print('*****')"
   ]
  },
  {
   "cell_type": "code",
   "execution_count": 13,
   "id": "778f8a83",
   "metadata": {},
   "outputs": [
    {
     "name": "stdout",
     "output_type": "stream",
     "text": [
      "*\n",
      "*\n",
      "*****\n",
      "*    *\n",
      "*****\n"
     ]
    }
   ],
   "source": [
    "for s in range(6):\n",
    "    if s==1:\n",
    "        print('*')\n",
    "    elif s==2:\n",
    "        print('*')\n",
    "    elif s==3:\n",
    "        print('*****')\n",
    "    elif s==4:\n",
    "        print('*    *')\n",
    "    elif s==5:\n",
    "        print('*****')"
   ]
  },
  {
   "cell_type": "code",
   "execution_count": 15,
   "id": "e7c0f951",
   "metadata": {},
   "outputs": [
    {
     "name": "stdout",
     "output_type": "stream",
     "text": [
      "  *****\n",
      " *\n",
      "*\n",
      " *\n",
      "  *****\n"
     ]
    }
   ],
   "source": [
    "for s in range(6):\n",
    "    if s==1:\n",
    "        print('  *****')\n",
    "    elif s==2:\n",
    "        print(' *')\n",
    "    elif s==3:\n",
    "        print('*')\n",
    "    elif s==4:\n",
    "        print(' *')\n",
    "    elif s==5:\n",
    "        print('  *****')"
   ]
  },
  {
   "cell_type": "code",
   "execution_count": 16,
   "id": "b18254e5",
   "metadata": {},
   "outputs": [
    {
     "name": "stdout",
     "output_type": "stream",
     "text": [
      "     *\n",
      "     *\n",
      " *****\n",
      "*    *\n",
      " *****\n"
     ]
    }
   ],
   "source": [
    "for s in range(6):\n",
    "    if s==1:\n",
    "        print('     *')\n",
    "    elif s==2:\n",
    "        print('     *')\n",
    "    elif s==3:\n",
    "        print(' *****')\n",
    "    elif s==4:\n",
    "        print('*    *')\n",
    "    elif s==5:\n",
    "        print(' *****')"
   ]
  },
  {
   "cell_type": "code",
   "execution_count": 22,
   "id": "d73db0d6",
   "metadata": {},
   "outputs": [
    {
     "name": "stdout",
     "output_type": "stream",
     "text": [
      "  * * \n",
      " *   *\n",
      " *****\n",
      " *\n",
      " *****\n"
     ]
    }
   ],
   "source": [
    "for s in range(6):\n",
    "    if s==1:\n",
    "        print('  * * ')\n",
    "    elif s==2:\n",
    "        print(' *   *')\n",
    "    elif s==3:\n",
    "        print(' *****')\n",
    "    elif s==4:\n",
    "        print(' *')\n",
    "    elif s==5:\n",
    "        print(' *****')"
   ]
  },
  {
   "cell_type": "code",
   "execution_count": 25,
   "id": "a40e537c",
   "metadata": {},
   "outputs": [
    {
     "name": "stdout",
     "output_type": "stream",
     "text": [
      "   * *\n",
      "  *   *\n",
      "  *\n",
      "*****\n",
      "  *\n",
      "  *\n"
     ]
    }
   ],
   "source": [
    "for s in range(7):\n",
    "    if s==1:\n",
    "        print('   * *')\n",
    "    elif s==2:\n",
    "        print('  *   *')\n",
    "    elif s==3:\n",
    "        print('  *')\n",
    "    elif s==4:\n",
    "        print('*****')\n",
    "    elif s==5:\n",
    "        print('  *')\n",
    "    elif s==6:\n",
    "        print('  *')"
   ]
  },
  {
   "cell_type": "code",
   "execution_count": 30,
   "id": "920a5672",
   "metadata": {},
   "outputs": [
    {
     "name": "stdout",
     "output_type": "stream",
     "text": [
      "  * *\n",
      " *   *\n",
      " *   *\n",
      "  * *\n",
      "     *\n",
      "     *\n",
      " *****\n"
     ]
    }
   ],
   "source": [
    "for s in range(8):\n",
    "    if s==1:\n",
    "        print('  * *')\n",
    "    elif s==2:\n",
    "        print(' *   *')\n",
    "    elif s==3:\n",
    "        print(' *   *')\n",
    "    elif s==4:\n",
    "        print('  * *')\n",
    "    elif s==5:\n",
    "        print('     *')\n",
    "    elif s==6:\n",
    "        print('     *')\n",
    "    elif s==7:\n",
    "        print(' *****')"
   ]
  },
  {
   "cell_type": "code",
   "execution_count": 31,
   "id": "4150df27",
   "metadata": {},
   "outputs": [
    {
     "name": "stdout",
     "output_type": "stream",
     "text": [
      "*\n",
      "*\n",
      "*****\n",
      "*   *\n",
      "*   *\n"
     ]
    }
   ],
   "source": [
    "for s in range(6):\n",
    "    if s==1:\n",
    "        print('*')\n",
    "    elif s==2:\n",
    "        print('*')\n",
    "    elif s==3:\n",
    "        print('*****')\n",
    "    elif s==4:\n",
    "        print('*   *')\n",
    "    elif s==5:\n",
    "        print('*   *')"
   ]
  },
  {
   "cell_type": "code",
   "execution_count": 32,
   "id": "34d69d71",
   "metadata": {},
   "outputs": [
    {
     "name": "stdout",
     "output_type": "stream",
     "text": [
      ".\n",
      "*\n",
      "*\n",
      "*\n",
      "*\n"
     ]
    }
   ],
   "source": [
    "for s in range(6):\n",
    "    if s==1:\n",
    "        print('.')\n",
    "    elif s==2:\n",
    "        print('*')\n",
    "    elif s==3:\n",
    "        print('*')\n",
    "    elif s==4:\n",
    "        print('*')\n",
    "    elif s==5:\n",
    "        print('*')"
   ]
  },
  {
   "cell_type": "code",
   "execution_count": 37,
   "id": "c93c81fb",
   "metadata": {},
   "outputs": [
    {
     "name": "stdout",
     "output_type": "stream",
     "text": [
      "     .\n",
      "     *\n",
      "     *\n",
      "  *  *\n",
      "  ****\n"
     ]
    }
   ],
   "source": [
    "for s in range(6):\n",
    "    if s==1:\n",
    "        print('     .')\n",
    "    elif s==2:\n",
    "        print('     *')\n",
    "    elif s==3:\n",
    "        print('     *')\n",
    "    elif s==4:\n",
    "        print('  *  *')\n",
    "    elif s==5:\n",
    "        print('  ****')"
   ]
  },
  {
   "cell_type": "code",
   "execution_count": 38,
   "id": "8c4754c9",
   "metadata": {},
   "outputs": [
    {
     "name": "stdout",
     "output_type": "stream",
     "text": [
      "*\n",
      "*    *\n",
      "*  *\n",
      "**\n",
      "*  *\n",
      "*    *\n"
     ]
    }
   ],
   "source": [
    "for s in range(7):\n",
    "    if s==1:\n",
    "        print('*')\n",
    "    elif s==2:\n",
    "        print('*    *')\n",
    "    elif s==3:\n",
    "        print('*  *')\n",
    "    elif s==4:\n",
    "        print('**')\n",
    "    elif s==5:\n",
    "        print('*  *')\n",
    "    elif s==6:\n",
    "        print('*    *')"
   ]
  },
  {
   "cell_type": "code",
   "execution_count": 40,
   "id": "2679edcd",
   "metadata": {},
   "outputs": [
    {
     "name": "stdout",
     "output_type": "stream",
     "text": [
      "  *\n",
      "  *\n",
      "  *\n",
      "  *\n",
      "  *\n"
     ]
    }
   ],
   "source": [
    "for s in range(6):\n",
    "    if s==1:\n",
    "        print('  *')\n",
    "    elif s==2:\n",
    "        print('  *')\n",
    "    elif s==3:\n",
    "        print('  *')\n",
    "    elif s==4:\n",
    "        print('  *')\n",
    "    elif s==5:\n",
    "        print('  *')"
   ]
  },
  {
   "cell_type": "code",
   "execution_count": 42,
   "id": "8e22fac2",
   "metadata": {},
   "outputs": [
    {
     "name": "stdout",
     "output_type": "stream",
     "text": [
      "  *   * \n",
      "*   *   *\n",
      "*   *   *\n",
      "*   *   *\n"
     ]
    }
   ],
   "source": [
    "for s in range(5):\n",
    "    if s==1:\n",
    "        print('  *   * ')\n",
    "    elif s==2:\n",
    "        print('*   *   *')\n",
    "    elif s==3:\n",
    "        print('*   *   *')\n",
    "    elif s==4:\n",
    "        print('*   *   *')"
   ]
  },
  {
   "cell_type": "code",
   "execution_count": 45,
   "id": "2de811ae",
   "metadata": {},
   "outputs": [
    {
     "name": "stdout",
     "output_type": "stream",
     "text": [
      "    * *\n",
      "  *     *\n",
      "  *     *\n",
      "  *     *\n"
     ]
    }
   ],
   "source": [
    "for s in range(5):\n",
    "    if s==1:\n",
    "        print('    * *')\n",
    "    elif s==2:\n",
    "        print('  *     *')\n",
    "    elif s==3:\n",
    "        print('  *     *')\n",
    "    elif s==4:\n",
    "        print('  *     *')"
   ]
  },
  {
   "cell_type": "code",
   "execution_count": 46,
   "id": "05fc4ec3",
   "metadata": {},
   "outputs": [
    {
     "name": "stdout",
     "output_type": "stream",
     "text": [
      "   * *\n",
      "  *   *\n",
      "  *   *\n",
      "  *   *\n",
      "   * *\n"
     ]
    }
   ],
   "source": [
    "for s in range(6):\n",
    "    if s==1:\n",
    "        print('   * *')\n",
    "    elif s==2:\n",
    "        print('  *   *')\n",
    "    elif s==3:\n",
    "        print('  *   *')\n",
    "    elif s==4:\n",
    "        print('  *   *')\n",
    "    elif s==5:\n",
    "        print('   * *')"
   ]
  },
  {
   "cell_type": "code",
   "execution_count": 48,
   "id": "af61c56d",
   "metadata": {},
   "outputs": [
    {
     "name": "stdout",
     "output_type": "stream",
     "text": [
      "  ****\n",
      "  *   *\n",
      "  ****\n",
      "  *\n",
      "  *\n"
     ]
    }
   ],
   "source": [
    "for s in range(6):\n",
    "    if s==1:\n",
    "        print('  ****')\n",
    "    elif s==2:\n",
    "        print('  *   *')\n",
    "    elif s==3:\n",
    "        print('  ****')\n",
    "    elif s==4:\n",
    "        print('  *')\n",
    "    elif s==5:\n",
    "        print('  *')"
   ]
  },
  {
   "cell_type": "code",
   "execution_count": 52,
   "id": "53e46314",
   "metadata": {},
   "outputs": [
    {
     "name": "stdout",
     "output_type": "stream",
     "text": [
      " *****\n",
      "*    *\n",
      " *****\n",
      "     * \n",
      "     *\n"
     ]
    }
   ],
   "source": [
    "for s in range(6):\n",
    "    if s==1:\n",
    "        print(' *****')\n",
    "    elif s==2:\n",
    "        print('*    *')\n",
    "    elif s==3:\n",
    "        print(' *****')\n",
    "    elif s==4:\n",
    "        print('     * ')\n",
    "    elif s==5:\n",
    "        print('     *')"
   ]
  },
  {
   "cell_type": "code",
   "execution_count": 54,
   "id": "ee0ead16",
   "metadata": {},
   "outputs": [
    {
     "name": "stdout",
     "output_type": "stream",
     "text": [
      "*  * *\n",
      " *    *\n",
      " *\n",
      " *\n",
      " *\n"
     ]
    }
   ],
   "source": [
    "for s in range(6):\n",
    "    if s==1:\n",
    "        print('*  * *')\n",
    "    elif s==2:\n",
    "        print(' *    *')\n",
    "    elif s==3:\n",
    "        print(' *')\n",
    "    elif s==4:\n",
    "        print(' *')\n",
    "    elif s==5:\n",
    "        print(' *')"
   ]
  },
  {
   "cell_type": "code",
   "execution_count": 55,
   "id": "2c53e76b",
   "metadata": {},
   "outputs": [
    {
     "name": "stdout",
     "output_type": "stream",
     "text": [
      "  *****  \n",
      " *\n",
      "  *****\n",
      "       *\n",
      " *****\n"
     ]
    }
   ],
   "source": [
    "\n",
    "for a in range(6):\n",
    "    if a==1:\n",
    "        print(\"  *****  \")\n",
    "    elif a==2:\n",
    "        print(' *')\n",
    "    elif a==3:\n",
    "        print('  *****')\n",
    "    elif a==4:\n",
    "        print('       *')\n",
    "    elif a==5:\n",
    "        print(' *****')"
   ]
  },
  {
   "cell_type": "code",
   "execution_count": 58,
   "id": "34b670c2",
   "metadata": {},
   "outputs": [
    {
     "name": "stdout",
     "output_type": "stream",
     "text": [
      "  *\n",
      "*****\n",
      "  *\n",
      "  *\n",
      "  *\n"
     ]
    }
   ],
   "source": [
    "for s in range(6):\n",
    "    if s==1:\n",
    "        print('  *')\n",
    "    elif s==2:\n",
    "        print('*****')\n",
    "    elif s==3:\n",
    "        print('  *')\n",
    "    elif s==4:\n",
    "        print('  *')\n",
    "    elif s==5:\n",
    "        print('  *')"
   ]
  },
  {
   "cell_type": "code",
   "execution_count": 62,
   "id": "c508c74c",
   "metadata": {},
   "outputs": [
    {
     "name": "stdout",
     "output_type": "stream",
     "text": [
      "*   *\n",
      "*   *\n",
      "*   *\n",
      " * *\n"
     ]
    }
   ],
   "source": [
    "\n",
    "for a in range(5):\n",
    "    if a==1:\n",
    "        print('*   *')\n",
    "    elif a==2:\n",
    "        print('*   *')\n",
    "    elif a==3:\n",
    "        print('*   *')\n",
    "    elif a==4:\n",
    "        print(' * *')\n",
    "    \n",
    "    "
   ]
  },
  {
   "cell_type": "code",
   "execution_count": 63,
   "id": "a96b0e1d",
   "metadata": {},
   "outputs": [
    {
     "name": "stdout",
     "output_type": "stream",
     "text": [
      " *     *\n",
      "  *   *\n",
      "   * *\n",
      "    *\n"
     ]
    }
   ],
   "source": [
    "for a in range(5):\n",
    "    if a==1:\n",
    "        print(' *     *')\n",
    "    elif a==2:\n",
    "        print('  *   *')\n",
    "    elif a==3:\n",
    "        print('   * *')\n",
    "    elif a==4:\n",
    "        print('    *')\n",
    "    "
   ]
  },
  {
   "cell_type": "code",
   "execution_count": 64,
   "id": "19b3f44a",
   "metadata": {},
   "outputs": [
    {
     "name": "stdout",
     "output_type": "stream",
     "text": [
      "*     *\n",
      "*     *\n",
      "*  *  *\n",
      "* * * *\n",
      "*     *\n"
     ]
    }
   ],
   "source": [
    "for a in range(6):\n",
    "    if a==1:\n",
    "        print('*     *')\n",
    "    elif a==2:\n",
    "        print('*     *')\n",
    "    elif a==3:\n",
    "        print('*  *  *')\n",
    "    elif a==4:\n",
    "        print('* * * *')\n",
    "    elif a==5:\n",
    "        print('*     *')"
   ]
  },
  {
   "cell_type": "code",
   "execution_count": 68,
   "id": "f56f3a05",
   "metadata": {},
   "outputs": [
    {
     "name": "stdout",
     "output_type": "stream",
     "text": [
      "*   *\n",
      " * * \n",
      "  *  \n",
      " * * \n",
      "*   *\n"
     ]
    }
   ],
   "source": [
    "for a in range(6):\n",
    "    if a==1:\n",
    "        print('*   *')\n",
    "    elif a==2:\n",
    "        print(' * * ')\n",
    "    elif a==3:\n",
    "        print('  *  ')\n",
    "    elif a==4:\n",
    "        print(' * * ')\n",
    "    elif a==5:\n",
    "        print('*   *')"
   ]
  },
  {
   "cell_type": "code",
   "execution_count": 67,
   "id": "0ef59ea0",
   "metadata": {},
   "outputs": [
    {
     "name": "stdout",
     "output_type": "stream",
     "text": [
      " *   *\n",
      "  * * \n",
      "   *  \n",
      "  *  \n",
      " *  \n"
     ]
    }
   ],
   "source": [
    "for a in range(6):\n",
    "    if a==1:\n",
    "        print(' *   *')\n",
    "    elif a==2:\n",
    "        print('  * * ')\n",
    "    elif a==3:\n",
    "        print('   *  ')\n",
    "    elif a==4:\n",
    "        print('  *  ')\n",
    "    elif a==5:\n",
    "        print(' *  ')"
   ]
  },
  {
   "cell_type": "code",
   "execution_count": 70,
   "id": "74fdb6d9",
   "metadata": {},
   "outputs": [
    {
     "name": "stdout",
     "output_type": "stream",
     "text": [
      "****\n",
      "  * \n",
      " *  \n",
      "****\n"
     ]
    }
   ],
   "source": [
    "for a in range(5):\n",
    "    if a==1:\n",
    "        print('****')\n",
    "    elif a==2:\n",
    "        print('  * ')\n",
    "    elif a==3:\n",
    "        print(' *  ')\n",
    "    elif a==4:\n",
    "        print('****')"
   ]
  },
  {
   "cell_type": "code",
   "execution_count": null,
   "id": "e3ea71d6",
   "metadata": {},
   "outputs": [],
   "source": []
  }
 ],
 "metadata": {
  "kernelspec": {
   "display_name": "Python 3 (ipykernel)",
   "language": "python",
   "name": "python3"
  },
  "language_info": {
   "codemirror_mode": {
    "name": "ipython",
    "version": 3
   },
   "file_extension": ".py",
   "mimetype": "text/x-python",
   "name": "python",
   "nbconvert_exporter": "python",
   "pygments_lexer": "ipython3",
   "version": "3.9.12"
  }
 },
 "nbformat": 4,
 "nbformat_minor": 5
}
