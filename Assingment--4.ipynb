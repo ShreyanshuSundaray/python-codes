{
 "cells": [
  {
   "cell_type": "markdown",
   "id": "29d948b8",
   "metadata": {},
   "source": [
    "#### (1) Given a list of numbers,write a python program that returns a new list which has all duplicate elements removed and is sorted in an increasing order."
   ]
  },
  {
   "cell_type": "code",
   "execution_count": 5,
   "id": "32006c1d",
   "metadata": {},
   "outputs": [],
   "source": [
    "list1=[2,1,3,4,2,3,3,2,7,9,8,7]\n",
    "s=set([2,1,3,4,2,3,3,2,7,9,8,7])"
   ]
  },
  {
   "cell_type": "code",
   "execution_count": 6,
   "id": "77f51947",
   "metadata": {},
   "outputs": [
    {
     "name": "stdout",
     "output_type": "stream",
     "text": [
      "[1, 2, 3, 4, 7, 8, 9]\n"
     ]
    }
   ],
   "source": [
    "print(list(s))"
   ]
  },
  {
   "cell_type": "markdown",
   "id": "b3ad0f93",
   "metadata": {},
   "source": [
    "#### (2) Write a python program where you will iterate over both keys and values in dictionaries."
   ]
  },
  {
   "cell_type": "code",
   "execution_count": 10,
   "id": "7f0d70bb",
   "metadata": {},
   "outputs": [
    {
     "name": "stdout",
     "output_type": "stream",
     "text": [
      "cricket 11\n",
      "carrom 2\n",
      "football 11\n"
     ]
    }
   ],
   "source": [
    "dic1={\"cricket\":11,\"carrom\":2,\"football\":11}\n",
    "for x,y in dic1.items():\n",
    "    print(x,y)"
   ]
  },
  {
   "cell_type": "markdown",
   "id": "fb9d88ca",
   "metadata": {},
   "source": [
    "#### (3) Write a python program that takes a dictionary of student names and returns a list of student names in alphabetical order."
   ]
  },
  {
   "cell_type": "code",
   "execution_count": 16,
   "id": "1d89d852",
   "metadata": {},
   "outputs": [],
   "source": [
    "dic2={\"student1\":\"Tarun\",\"student2\":\"Manoj\",\"student3\":\"Gephi\"}\n",
    "x=list(dic2.values())\n",
    "x.sort()"
   ]
  },
  {
   "cell_type": "code",
   "execution_count": 17,
   "id": "28741ea9",
   "metadata": {},
   "outputs": [
    {
     "name": "stdout",
     "output_type": "stream",
     "text": [
      "['Gephi', 'Manoj', 'Tarun']\n"
     ]
    }
   ],
   "source": [
    "print(x)"
   ]
  },
  {
   "cell_type": "markdown",
   "id": "cdfb4ba9",
   "metadata": {},
   "source": [
    "#### (4) Write a python program which returns a new list of booleans,from a given number.Iterating through the number one digit at a time append True if the digit is 1 and false if it is 0. "
   ]
  },
  {
   "cell_type": "code",
   "execution_count": 17,
   "id": "c7da282e",
   "metadata": {},
   "outputs": [
    {
     "name": "stdout",
     "output_type": "stream",
     "text": [
      "Enter a binary number : 10010101\n",
      "['true', 'false', 'false', 'true', 'true', 'true', 'false']\n"
     ]
    }
   ],
   "source": [
    "str1=input(\"Enter a binary number : \")\n",
    "list1=[]\n",
    "for i in a:\n",
    "    if i==\"1\":\n",
    "        list1.append(\"true\")\n",
    "    elif i==\"0\":\n",
    "        list1.append(\"false\")\n",
    "print(list1)"
   ]
  },
  {
   "cell_type": "markdown",
   "id": "36443733",
   "metadata": {},
   "source": [
    "#### (5) Write a Python program where you will return a dictionary where the keys will be the character and the values will be the occurrence of the character in the string, and itshould for any string inputs (dynamic).\n",
    "  "
   ]
  },
  {
   "cell_type": "code",
   "execution_count": 9,
   "id": "741b08ae",
   "metadata": {},
   "outputs": [
    {
     "name": "stdout",
     "output_type": "stream",
     "text": [
      "Enter a string : where you will go\n",
      "{'w': 2, 'h': 1, 'e': 2, 'r': 1, ' ': 3, 'y': 1, 'o': 2, 'u': 1, 'i': 1, 'l': 2, 'g': 1}\n"
     ]
    }
   ],
   "source": [
    "str2=str(input(\"Enter a string : \"))\n",
    "new_dict={}\n",
    "for i in str2:\n",
    "     new_dict.update({i:str2.count(i)})\n",
    "print(new_dict)"
   ]
  },
  {
   "cell_type": "markdown",
   "id": "e3ad6e23",
   "metadata": {},
   "source": [
    "#### (6) Given a dictionary containing the names and ages of a group of people, return thename of the oldest person "
   ]
  },
  {
   "cell_type": "code",
   "execution_count": 21,
   "id": "dd6c78ae",
   "metadata": {},
   "outputs": [
    {
     "name": "stdout",
     "output_type": "stream",
     "text": [
      "Ackes is the oldest person.\n"
     ]
    }
   ],
   "source": [
    "dict5={\"Tmma\": 41, \"Ackes\": 45, \"myna\": 15, \"Benthon\": 29}\n",
    "c=max(dict5.values())\n",
    "for i in dict5:\n",
    "    if dict5[i]==c:\n",
    "        print(i,\"is the oldest person.\")"
   ]
  },
  {
   "cell_type": "markdown",
   "id": "2793944e",
   "metadata": {},
   "source": [
    "#### (7) Write a Python program to create a Rock, Paper, Scissor game, use two inputs for twoplayers:"
   ]
  },
  {
   "cell_type": "code",
   "execution_count": 2,
   "id": "fa0222a7",
   "metadata": {},
   "outputs": [
    {
     "name": "stdout",
     "output_type": "stream",
     "text": [
      "person1 choose one from rock , paper ,scissor :rock\n",
      "person2 choose one from rock , paper ,scissor :scissor\n",
      "person1 win\n"
     ]
    }
   ],
   "source": [
    "p1=(input('person1 choose one from rock , paper ,scissor :'))\n",
    "p2=(input('person2 choose one from rock , paper ,scissor :'))\n",
    "\n",
    "if p1==('rock') and p2==('paper'):\n",
    "    print('person2 win')\n",
    "elif p1==('paper') and p2==('rock'):\n",
    "    print('person1 win')\n",
    "elif p1==('paper') and p2==('scissor'):\n",
    "    print('person2 win')\n",
    "elif p1==('scissor') and p2==('paper'):\n",
    "    print('person1 win')\n",
    "elif p1==('rock') and p2==('scissor'):\n",
    "    print('person1 win')\n",
    "elif p1==('scissor') and p2==('rock'):\n",
    "    print('person2 win')\n",
    "else:\n",
    "    print('it is a draw')\n",
    "    "
   ]
  },
  {
   "cell_type": "markdown",
   "id": "64fe3387",
   "metadata": {},
   "source": [
    "#### (8) . Create a program that returns a list of items that you can afford in the store with the money you have in your wallet. Create a dictionary with items as key and price as values."
   ]
  },
  {
   "cell_type": "code",
   "execution_count": 9,
   "id": "68d57c02",
   "metadata": {},
   "outputs": [
    {
     "name": "stdout",
     "output_type": "stream",
     "text": [
      "Enter the money you have : 150\n",
      "you don't have enough money\n",
      "['water bottels', 'chips', 'pen', 'book']\n"
     ]
    }
   ],
   "source": [
    "money=int(input(\"Enter the money you have : \"))\n",
    "dict6={\"water bottels\":20,\"chips\":10,\"pen\":60,\"book\":100,\"cake\":350}\n",
    "x=[]\n",
    "for keys,values in dict6.items():\n",
    "    if values<=money:\n",
    "        x.append(keys)\n",
    "    else:\n",
    "        print(\"you don't have enough money\")\n",
    "print(x)\n",
    "    "
   ]
  },
  {
   "cell_type": "markdown",
   "id": "521c79cd",
   "metadata": {},
   "source": [
    "#### (9) Write a python program to create a union of sets."
   ]
  },
  {
   "cell_type": "code",
   "execution_count": 10,
   "id": "c57ae69e",
   "metadata": {},
   "outputs": [
    {
     "data": {
      "text/plain": [
       "{0, 1, 2, 3, 4, 6, 9, 10, 154}"
      ]
     },
     "execution_count": 10,
     "metadata": {},
     "output_type": "execute_result"
    }
   ],
   "source": [
    "set1={1,2,1,3,4,9,4,6}\n",
    "set2={4,0,10,154}\n",
    "set1.union(set2)"
   ]
  },
  {
   "cell_type": "markdown",
   "id": "ba1c335f",
   "metadata": {},
   "source": [
    "#### (10) Write a Python program to check if a given value is present in a set or not"
   ]
  },
  {
   "cell_type": "code",
   "execution_count": 18,
   "id": "37a61f09",
   "metadata": {},
   "outputs": [
    {
     "name": "stdout",
     "output_type": "stream",
     "text": [
      "Enter a number to check : 999\n",
      "This number is present inside the set\n"
     ]
    }
   ],
   "source": [
    "set2={10,222,54,67,82,10000,999}\n",
    "val=int(input(\"Enter a number to check : \"))\n",
    "for i in set2:\n",
    "    if i==val:\n",
    "        print(\"This number is present inside the set\")\n",
    "   "
   ]
  },
  {
   "cell_type": "markdown",
   "id": "b13c6c92",
   "metadata": {},
   "source": [
    "#### (11)  Write a Python program to find the occurrences of 3 most common words in a given text. And make it as a dictionaries"
   ]
  },
  {
   "cell_type": "code",
   "execution_count": 22,
   "id": "681745fa",
   "metadata": {},
   "outputs": [
    {
     "name": "stdout",
     "output_type": "stream",
     "text": [
      "Cat dog dog cat horse dog dog mouse horse dog mouse tiger lion tiger cat mouse snail”\n",
      "{'cat': 3, 'dog': 5, 'mouse': 3}\n"
     ]
    }
   ],
   "source": [
    "str4=input()\n",
    "str5=str4.lower()\n",
    "a=str5.split()\n",
    "x={}\n",
    "for i in a:\n",
    "    if str5.count(i)>2:\n",
    "        x.update({i:str5.count(i)})\n",
    "print(x)"
   ]
  },
  {
   "cell_type": "markdown",
   "id": "6261db32",
   "metadata": {},
   "source": [
    "#### (12) Write a Python program that accepts name of given subject and mark, and make subjects as keys in dictionaries and marks as values and print the final dictionary with subjects and marks. "
   ]
  },
  {
   "cell_type": "code",
   "execution_count": 2,
   "id": "bb2a43e8",
   "metadata": {},
   "outputs": [
    {
     "name": "stdout",
     "output_type": "stream",
     "text": [
      "Enter total number of subjects : 5\n",
      "Enter the subject names : Math\n",
      "Enter the marks out of 100 : 98\n",
      "Enter the subject names : English\n",
      "Enter the marks out of 100 : 75\n",
      "Enter the subject names : Hindi\n",
      "Enter the marks out of 100 : 78\n",
      "Enter the subject names : Science\n",
      "Enter the marks out of 100 : 82\n",
      "Enter the subject names : python\n",
      "Enter the marks out of 100 : 23\n",
      "{'Math': 98, 'English': 75, 'Hindi': 78, 'Science': 82, 'python': 23}\n"
     ]
    }
   ],
   "source": [
    "total_sub=int(input(\"Enter total number of subjects : \"))\n",
    "dict10={}\n",
    "for i in range(total_sub):\n",
    "    sub=input(\"Enter the subject names : \")\n",
    "    marks=int(input(\"Enter the marks out of 100 : \"))\n",
    "    dict10.update({sub:marks})\n",
    "print(dict10)"
   ]
  },
  {
   "cell_type": "code",
   "execution_count": null,
   "id": "5146699f",
   "metadata": {},
   "outputs": [],
   "source": []
  }
 ],
 "metadata": {
  "kernelspec": {
   "display_name": "Python 3 (ipykernel)",
   "language": "python",
   "name": "python3"
  },
  "language_info": {
   "codemirror_mode": {
    "name": "ipython",
    "version": 3
   },
   "file_extension": ".py",
   "mimetype": "text/x-python",
   "name": "python",
   "nbconvert_exporter": "python",
   "pygments_lexer": "ipython3",
   "version": "3.9.13"
  }
 },
 "nbformat": 4,
 "nbformat_minor": 5
}
