{
 "cells": [
  {
   "cell_type": "markdown",
   "id": "36527b9d",
   "metadata": {},
   "source": [
    "#### (1) Define a function which will return max of three numbers."
   ]
  },
  {
   "cell_type": "code",
   "execution_count": 1,
   "id": "de02df78",
   "metadata": {},
   "outputs": [],
   "source": [
    "def max_of_three(x,y,z):\n",
    "    if x>y:\n",
    "        return x\n",
    "    elif y>z:\n",
    "        return y\n",
    "    return z"
   ]
  },
  {
   "cell_type": "code",
   "execution_count": 4,
   "id": "19589755",
   "metadata": {},
   "outputs": [
    {
     "data": {
      "text/plain": [
       "11"
      ]
     },
     "execution_count": 4,
     "metadata": {},
     "output_type": "execute_result"
    }
   ],
   "source": [
    "max_of_three(10,11,8)"
   ]
  },
  {
   "cell_type": "code",
   "execution_count": 5,
   "id": "d84d6bf3",
   "metadata": {},
   "outputs": [
    {
     "data": {
      "text/plain": [
       "16"
      ]
     },
     "execution_count": 5,
     "metadata": {},
     "output_type": "execute_result"
    }
   ],
   "source": [
    "max_of_three(10,11,16)"
   ]
  },
  {
   "cell_type": "markdown",
   "id": "634cb892",
   "metadata": {},
   "source": [
    "#### (2) Define a python function to reverse a string."
   ]
  },
  {
   "cell_type": "code",
   "execution_count": 6,
   "id": "237a0ad5",
   "metadata": {},
   "outputs": [],
   "source": [
    "def reverse(str1):\n",
    "    return str1[::-1]"
   ]
  },
  {
   "cell_type": "code",
   "execution_count": 8,
   "id": "4a234d5a",
   "metadata": {},
   "outputs": [
    {
     "data": {
      "text/plain": [
       "'nohtyp'"
      ]
     },
     "execution_count": 8,
     "metadata": {},
     "output_type": "execute_result"
    }
   ],
   "source": [
    "reverse(\"python\")"
   ]
  },
  {
   "cell_type": "code",
   "execution_count": 9,
   "id": "21d56e16",
   "metadata": {},
   "outputs": [
    {
     "data": {
      "text/plain": [
       "'uhsnayerhS'"
      ]
     },
     "execution_count": 9,
     "metadata": {},
     "output_type": "execute_result"
    }
   ],
   "source": [
    "reverse(\"Shreyanshu\")"
   ]
  },
  {
   "cell_type": "markdown",
   "id": "aa73e05a",
   "metadata": {},
   "source": [
    "#### (3) Write a Python program to define a function that accepts 2 values and return its sum, subtraction and multiplication."
   ]
  },
  {
   "cell_type": "code",
   "execution_count": 10,
   "id": "feea71b0",
   "metadata": {},
   "outputs": [],
   "source": [
    "def func1(num1,symbol,num2):\n",
    "    if symbol=='+':\n",
    "        return num1+num2\n",
    "    elif symbol==\"-\":\n",
    "        return num1-num2\n",
    "    elif symbol == \"*\":\n",
    "        return num1*num2"
   ]
  },
  {
   "cell_type": "code",
   "execution_count": 11,
   "id": "aacc64d1",
   "metadata": {},
   "outputs": [
    {
     "data": {
      "text/plain": [
       "124"
      ]
     },
     "execution_count": 11,
     "metadata": {},
     "output_type": "execute_result"
    }
   ],
   "source": [
    "func1(69,\"+\",55)"
   ]
  },
  {
   "cell_type": "code",
   "execution_count": 12,
   "id": "bc33b2fe",
   "metadata": {},
   "outputs": [
    {
     "data": {
      "text/plain": [
       "55888"
      ]
     },
     "execution_count": 12,
     "metadata": {},
     "output_type": "execute_result"
    }
   ],
   "source": [
    "func1(998,\"*\",56)"
   ]
  },
  {
   "cell_type": "markdown",
   "id": "a9519b8b",
   "metadata": {},
   "source": [
    "#### (4) . Define a function that accepts roll number and returns  whether the student is present or absent. "
   ]
  },
  {
   "cell_type": "code",
   "execution_count": 13,
   "id": "bcfa3f80",
   "metadata": {},
   "outputs": [],
   "source": [
    "def details(roll):\n",
    "    x=[24,56,10,1,5]\n",
    "    if roll in x:\n",
    "        print(\"roll number {} is present\".format(roll))\n",
    "    else:\n",
    "        print(\"roll number {} is absent \".format(roll))"
   ]
  },
  {
   "cell_type": "code",
   "execution_count": 14,
   "id": "f320e2d8",
   "metadata": {},
   "outputs": [
    {
     "name": "stdout",
     "output_type": "stream",
     "text": [
      "roll number 44 is absent \n"
     ]
    }
   ],
   "source": [
    "details(44)"
   ]
  },
  {
   "cell_type": "code",
   "execution_count": 15,
   "id": "5a742a36",
   "metadata": {},
   "outputs": [
    {
     "name": "stdout",
     "output_type": "stream",
     "text": [
      "roll number 1 is present\n"
     ]
    }
   ],
   "source": [
    "details(1)"
   ]
  },
  {
   "cell_type": "markdown",
   "id": "b329cb3a",
   "metadata": {},
   "source": [
    "#### (5) Define a function in python that accepts n values and returns the maximum of n numbers."
   ]
  },
  {
   "cell_type": "code",
   "execution_count": 16,
   "id": "8849b749",
   "metadata": {},
   "outputs": [],
   "source": [
    "def maxnum(*x):\n",
    "    return max(x)"
   ]
  },
  {
   "cell_type": "code",
   "execution_count": 17,
   "id": "70f16f71",
   "metadata": {},
   "outputs": [],
   "source": [
    "i=maxnum"
   ]
  },
  {
   "cell_type": "code",
   "execution_count": 18,
   "id": "0b66fef7",
   "metadata": {},
   "outputs": [
    {
     "data": {
      "text/plain": [
       "100"
      ]
     },
     "execution_count": 18,
     "metadata": {},
     "output_type": "execute_result"
    }
   ],
   "source": [
    "i(2,6,78,99,100,24)"
   ]
  },
  {
   "cell_type": "markdown",
   "id": "cb16c516",
   "metadata": {},
   "source": [
    "#### (6) Define a function which counts vowels and consonant in a word."
   ]
  },
  {
   "cell_type": "code",
   "execution_count": 32,
   "id": "48c8cb46",
   "metadata": {},
   "outputs": [],
   "source": [
    "def count(a):\n",
    "    vowel=['a','e','i','o','u']\n",
    "    x=0\n",
    "    y=0\n",
    "    for i in (a.lower()):\n",
    "        if i in vowel:\n",
    "            x=x+1\n",
    "        else:\n",
    "            y=y+1\n",
    "    print(\"Total number of vowels : \",x)\n",
    "    print('Total number of consonants : ',y)"
   ]
  },
  {
   "cell_type": "code",
   "execution_count": 33,
   "id": "aeedf5d2",
   "metadata": {},
   "outputs": [
    {
     "name": "stdout",
     "output_type": "stream",
     "text": [
      "Total number of vowels :  4\n",
      "Total number of consonants :  6\n"
     ]
    }
   ],
   "source": [
    "count('asdfgInOpu')"
   ]
  },
  {
   "cell_type": "markdown",
   "id": "9d8dfdec",
   "metadata": {},
   "source": [
    "#### (7) Define a function that returns factorial of a number."
   ]
  },
  {
   "cell_type": "code",
   "execution_count": 34,
   "id": "c621c042",
   "metadata": {},
   "outputs": [],
   "source": [
    "def factorial(a):\n",
    "    i=1\n",
    "    while a>0:\n",
    "        i=i*a\n",
    "        a=a-1\n",
    "    return i\n",
    "        "
   ]
  },
  {
   "cell_type": "code",
   "execution_count": 37,
   "id": "74b2397e",
   "metadata": {},
   "outputs": [
    {
     "data": {
      "text/plain": [
       "39916800"
      ]
     },
     "execution_count": 37,
     "metadata": {},
     "output_type": "execute_result"
    }
   ],
   "source": [
    "factorial(11)"
   ]
  },
  {
   "cell_type": "markdown",
   "id": "ea89d3c6",
   "metadata": {},
   "source": [
    "#### (8) Define a function that accepts radius and returns the area of a circle ."
   ]
  },
  {
   "cell_type": "code",
   "execution_count": 1,
   "id": "2e518a69",
   "metadata": {},
   "outputs": [],
   "source": [
    "def area(r):\n",
    "    return 3.141*r**2"
   ]
  },
  {
   "cell_type": "code",
   "execution_count": 4,
   "id": "54334c52",
   "metadata": {},
   "outputs": [
    {
     "data": {
      "text/plain": [
       "706.725"
      ]
     },
     "execution_count": 4,
     "metadata": {},
     "output_type": "execute_result"
    }
   ],
   "source": [
    "area(15)"
   ]
  },
  {
   "cell_type": "markdown",
   "id": "0bd60bbc",
   "metadata": {},
   "source": [
    "#### (9) Define a function that takes a number as a parameter and check the number is prime or not."
   ]
  },
  {
   "cell_type": "code",
   "execution_count": 12,
   "id": "a0c230d3",
   "metadata": {},
   "outputs": [],
   "source": [
    "def prime(n):\n",
    "    if n>1:\n",
    "        for y in range(2,n):\n",
    "            if n%y==0:\n",
    "                return \"Number is not Prime\"\n",
    "            else:\n",
    "                return \"Number is Prime\"\n"
   ]
  },
  {
   "cell_type": "code",
   "execution_count": 15,
   "id": "f85a3463",
   "metadata": {},
   "outputs": [
    {
     "data": {
      "text/plain": [
       "'Number is Prime'"
      ]
     },
     "execution_count": 15,
     "metadata": {},
     "output_type": "execute_result"
    }
   ],
   "source": [
    "prime(9)"
   ]
  },
  {
   "cell_type": "markdown",
   "id": "2624638c",
   "metadata": {},
   "source": [
    "#### (10) Mary wants to run a 25-mile marathon. When she attempts to sign up for the marathon, she notices the sign-up sheet doesn't directly state the marathon's length. Instead, the marathon's length is listed in small, different portions. Help Mary find out how long the marathon actually is. So create a function that ."
   ]
  },
  {
   "cell_type": "code",
   "execution_count": 16,
   "id": "b74f62a4",
   "metadata": {},
   "outputs": [],
   "source": [
    "def marathon_len(x):\n",
    "    length=0\n",
    "    for i in x:\n",
    "        length=length+abs(i)\n",
    "    if length==25:\n",
    "        return True\n",
    "    else:\n",
    "        return False"
   ]
  },
  {
   "cell_type": "code",
   "execution_count": 17,
   "id": "d86c0910",
   "metadata": {},
   "outputs": [
    {
     "data": {
      "text/plain": [
       "False"
      ]
     },
     "execution_count": 17,
     "metadata": {},
     "output_type": "execute_result"
    }
   ],
   "source": [
    "marathon_len([1,5,7,2,9])"
   ]
  },
  {
   "cell_type": "code",
   "execution_count": 19,
   "id": "d8e6f8a1",
   "metadata": {},
   "outputs": [
    {
     "data": {
      "text/plain": [
       "True"
      ]
     },
     "execution_count": 19,
     "metadata": {},
     "output_type": "execute_result"
    }
   ],
   "source": [
    "marathon_len([8,7,2,5,-3])"
   ]
  },
  {
   "cell_type": "code",
   "execution_count": 20,
   "id": "089e7473",
   "metadata": {},
   "outputs": [
    {
     "data": {
      "text/plain": [
       "False"
      ]
     },
     "execution_count": 20,
     "metadata": {},
     "output_type": "execute_result"
    }
   ],
   "source": [
    "marathon_len([])"
   ]
  },
  {
   "cell_type": "markdown",
   "id": "2d366ded",
   "metadata": {},
   "source": [
    "#### (11) Create a function that takes a number and returns True if the number is automorphic ,false if it is not."
   ]
  },
  {
   "cell_type": "code",
   "execution_count": 21,
   "id": "54a75b62",
   "metadata": {},
   "outputs": [],
   "source": [
    "def automorphic(x):\n",
    "    i=str(x**2)\n",
    "    if i[-1]==str(x):\n",
    "        return (\"{} is automorphic \".format(x))\n",
    "    else:\n",
    "        return False"
   ]
  },
  {
   "cell_type": "code",
   "execution_count": 22,
   "id": "66c72d1c",
   "metadata": {},
   "outputs": [
    {
     "data": {
      "text/plain": [
       "'6 is automorphic '"
      ]
     },
     "execution_count": 22,
     "metadata": {},
     "output_type": "execute_result"
    }
   ],
   "source": [
    "automorphic(6)"
   ]
  },
  {
   "cell_type": "markdown",
   "id": "0672d095",
   "metadata": {},
   "source": [
    "#### (12) Create a function, that will take given a, b, c, and do the following: Add a to itself b times and Check if the result is divisible by c.  and return true if it is divisible by c or false"
   ]
  },
  {
   "cell_type": "code",
   "execution_count": 31,
   "id": "b2f3f8fc",
   "metadata": {},
   "outputs": [],
   "source": [
    "def check(a,b,c):\n",
    "    total=0\n",
    "    for i in range(b):\n",
    "        total=a+total\n",
    "    if total%c==0:\n",
    "        return True\n",
    "    else:\n",
    "        return False"
   ]
  },
  {
   "cell_type": "code",
   "execution_count": 34,
   "id": "354d3919",
   "metadata": {},
   "outputs": [
    {
     "data": {
      "text/plain": [
       "True"
      ]
     },
     "execution_count": 34,
     "metadata": {},
     "output_type": "execute_result"
    }
   ],
   "source": [
    "check(1,2,2)"
   ]
  },
  {
   "cell_type": "code",
   "execution_count": 35,
   "id": "20d080ed",
   "metadata": {},
   "outputs": [
    {
     "data": {
      "text/plain": [
       "True"
      ]
     },
     "execution_count": 35,
     "metadata": {},
     "output_type": "execute_result"
    }
   ],
   "source": [
    "check(3,2,3)"
   ]
  },
  {
   "cell_type": "markdown",
   "id": "dcbbae3b",
   "metadata": {},
   "source": [
    "#### (13)  Create a function that changes specific words into emoticons. Given a sentence as a string, replace the words smile, grin, sad and mad with their corresponding emoticons."
   ]
  },
  {
   "cell_type": "code",
   "execution_count": 36,
   "id": "87aac770",
   "metadata": {},
   "outputs": [],
   "source": [
    "def emoticon(x):\n",
    "    s=x.split()\n",
    "    for y in range(len(s)):\n",
    "        if s[y]==\"smile\":\n",
    "            s[y]=\":D\"\n",
    "        elif s[y]==\"grin\":\n",
    "            s[y]=\":)\"\n",
    "        elif s[y]==\"sad\":\n",
    "            s[y]=\":(\"\n",
    "        elif s[y]==\"mad\":\n",
    "            s[y]=\":p\"\n",
    "    return \" \".join(s)\n",
    "        "
   ]
  },
  {
   "cell_type": "code",
   "execution_count": 37,
   "id": "3fefe205",
   "metadata": {},
   "outputs": [
    {
     "data": {
      "text/plain": [
       "'Make me :('"
      ]
     },
     "execution_count": 37,
     "metadata": {},
     "output_type": "execute_result"
    }
   ],
   "source": [
    "emoticon(\"Make me sad\")"
   ]
  },
  {
   "cell_type": "markdown",
   "id": "9c25ffbb",
   "metadata": {},
   "source": [
    "#### (14) Write a python program to square and cube every number in a given list of integers using lambda. "
   ]
  },
  {
   "cell_type": "code",
   "execution_count": 40,
   "id": "c06277d5",
   "metadata": {},
   "outputs": [
    {
     "data": {
      "text/plain": [
       "[1, 16, 36, 49, 25]"
      ]
     },
     "execution_count": 40,
     "metadata": {},
     "output_type": "execute_result"
    }
   ],
   "source": [
    "list(map(lambda x:x**2 , [1,4,6,7,5]))"
   ]
  },
  {
   "cell_type": "code",
   "execution_count": 41,
   "id": "65c70f8a",
   "metadata": {},
   "outputs": [
    {
     "data": {
      "text/plain": [
       "[1, 8, 27, 64, 125, 216, 343, 512, 729]"
      ]
     },
     "execution_count": 41,
     "metadata": {},
     "output_type": "execute_result"
    }
   ],
   "source": [
    "list(map(lambda x:x**3 , range(1,10)))"
   ]
  },
  {
   "cell_type": "markdown",
   "id": "a3bc1d16",
   "metadata": {},
   "source": [
    "#### (15) Write a python program to check wheather a given string is number or not using lambda."
   ]
  },
  {
   "cell_type": "code",
   "execution_count": 48,
   "id": "9c9422d0",
   "metadata": {},
   "outputs": [],
   "source": [
    "x=lambda x:x.isdigit()"
   ]
  },
  {
   "cell_type": "code",
   "execution_count": 49,
   "id": "fd735a9b",
   "metadata": {},
   "outputs": [
    {
     "data": {
      "text/plain": [
       "False"
      ]
     },
     "execution_count": 49,
     "metadata": {},
     "output_type": "execute_result"
    }
   ],
   "source": [
    "x(\"sreyan\")"
   ]
  },
  {
   "cell_type": "code",
   "execution_count": 50,
   "id": "1f8d7835",
   "metadata": {},
   "outputs": [
    {
     "data": {
      "text/plain": [
       "True"
      ]
     },
     "execution_count": 50,
     "metadata": {},
     "output_type": "execute_result"
    }
   ],
   "source": [
    "x(\"191\")"
   ]
  },
  {
   "cell_type": "code",
   "execution_count": null,
   "id": "63108aeb",
   "metadata": {},
   "outputs": [],
   "source": []
  }
 ],
 "metadata": {
  "kernelspec": {
   "display_name": "Python 3 (ipykernel)",
   "language": "python",
   "name": "python3"
  },
  "language_info": {
   "codemirror_mode": {
    "name": "ipython",
    "version": 3
   },
   "file_extension": ".py",
   "mimetype": "text/x-python",
   "name": "python",
   "nbconvert_exporter": "python",
   "pygments_lexer": "ipython3",
   "version": "3.9.13"
  }
 },
 "nbformat": 4,
 "nbformat_minor": 5
}
