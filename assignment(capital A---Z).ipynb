{
 "cells": [
  {
   "cell_type": "code",
   "execution_count": 2,
   "id": "d9f043f6",
   "metadata": {},
   "outputs": [
    {
     "name": "stdout",
     "output_type": "stream",
     "text": [
      "  *\n",
      "*   *\n",
      "*****\n",
      "*   *\n",
      "*   *\n"
     ]
    }
   ],
   "source": [
    "a=1\n",
    "while a<=5:\n",
    "    if a==1:\n",
    "        print('  *')\n",
    "    elif a==2:\n",
    "        print('*   *')\n",
    "    elif a==3:\n",
    "        print('*****')\n",
    "    elif a==4:\n",
    "        print('*   *')\n",
    "    elif a==5:\n",
    "        print('*   *')\n",
    "    a=a+1"
   ]
  },
  {
   "cell_type": "code",
   "execution_count": 4,
   "id": "53aa6f60",
   "metadata": {},
   "outputs": [
    {
     "name": "stdout",
     "output_type": "stream",
     "text": [
      "*****\n",
      "*    *\n",
      "*****\n",
      "*    *\n",
      "*****\n"
     ]
    }
   ],
   "source": [
    "a=1\n",
    "while a<=5:\n",
    "    if a==1:\n",
    "        print('*****')\n",
    "    elif a==2:\n",
    "        print('*    *')\n",
    "    elif a==3:\n",
    "        print('*****')\n",
    "    elif a==4:\n",
    "        print('*    *')\n",
    "    elif a==5:\n",
    "        print('*****')\n",
    "    a=a+1"
   ]
  },
  {
   "cell_type": "code",
   "execution_count": 7,
   "id": "63de9f01",
   "metadata": {},
   "outputs": [
    {
     "name": "stdout",
     "output_type": "stream",
     "text": [
      "*****\n",
      "*\n",
      "*\n",
      "*\n",
      "*****\n"
     ]
    }
   ],
   "source": [
    "a=1\n",
    "while a<=5:\n",
    "    if a==1:\n",
    "        print('*****')\n",
    "    elif a==2:\n",
    "        print('*')\n",
    "    elif a==3:\n",
    "        print('*')\n",
    "    elif a==4:\n",
    "        print('*')\n",
    "    elif a==5:\n",
    "        print('*****')\n",
    "    a=a+1"
   ]
  },
  {
   "cell_type": "code",
   "execution_count": 8,
   "id": "0aaca947",
   "metadata": {},
   "outputs": [
    {
     "name": "stdout",
     "output_type": "stream",
     "text": [
      "*****\n",
      "*     *\n",
      "*     *\n",
      "*     *\n",
      "*****\n"
     ]
    }
   ],
   "source": [
    "a=1\n",
    "while a<=5:\n",
    "    if a==1:\n",
    "        print('*****')\n",
    "    elif a==2:\n",
    "        print('*     *')\n",
    "    elif a==3:\n",
    "        print('*     *')\n",
    "    elif a==4:\n",
    "        print('*     *')\n",
    "    elif a==5:\n",
    "        print('*****')\n",
    "    a=a+1\n",
    "        "
   ]
  },
  {
   "cell_type": "code",
   "execution_count": 10,
   "id": "d2d14e81",
   "metadata": {},
   "outputs": [
    {
     "name": "stdout",
     "output_type": "stream",
     "text": [
      "******\n",
      "*\n",
      "****\n",
      "*\n",
      "******\n"
     ]
    }
   ],
   "source": [
    "a=1\n",
    "while a<=5:\n",
    "    if a==1:\n",
    "        print('******')\n",
    "    elif a==2:\n",
    "        print('*')\n",
    "    elif a==3:\n",
    "        print('****')\n",
    "    elif a==4:\n",
    "        print('*')\n",
    "    elif a==5:\n",
    "        print('******')\n",
    "    a=a+1"
   ]
  },
  {
   "cell_type": "code",
   "execution_count": 11,
   "id": "25cb9776",
   "metadata": {},
   "outputs": [
    {
     "name": "stdout",
     "output_type": "stream",
     "text": [
      "*****\n",
      "*\n",
      "***\n",
      "*\n",
      "*\n"
     ]
    }
   ],
   "source": [
    "a=1\n",
    "while a<=5:\n",
    "    if a==1:\n",
    "        print('*****')\n",
    "    elif a==2:\n",
    "        print('*')\n",
    "    elif a==3:\n",
    "        print('***')\n",
    "    elif a==4:\n",
    "        print('*')\n",
    "    elif a==5:\n",
    "        print('*')\n",
    "    a=a+1"
   ]
  },
  {
   "cell_type": "code",
   "execution_count": 3,
   "id": "31afc262",
   "metadata": {},
   "outputs": [
    {
     "name": "stdout",
     "output_type": "stream",
     "text": [
      "*****\n",
      "*\n",
      "*  **\n",
      "*   *\n",
      "*****\n"
     ]
    }
   ],
   "source": [
    "a=1\n",
    "while a<=5:\n",
    "    if a==1:\n",
    "        print('*****')\n",
    "    elif a==2:\n",
    "        print('*')\n",
    "    elif a==3:\n",
    "        print('*  **')\n",
    "    elif a==4:\n",
    "        print('*   *')\n",
    "    elif a==5:\n",
    "        print('*****')\n",
    "    a=a+1\n",
    "        \n",
    "        \n",
    "        "
   ]
  },
  {
   "cell_type": "code",
   "execution_count": 17,
   "id": "64aab1f3",
   "metadata": {},
   "outputs": [
    {
     "name": "stdout",
     "output_type": "stream",
     "text": [
      "*   *\n",
      "*   *\n",
      "*****\n",
      "*   *\n",
      "*   *\n"
     ]
    }
   ],
   "source": [
    "a=5\n",
    "while a<10:\n",
    "    if a==5:\n",
    "        print('*   *')\n",
    "    elif a==6:\n",
    "        print('*   *')\n",
    "    elif a==7:\n",
    "        print('*****')\n",
    "    elif a==8:\n",
    "        print('*   *')\n",
    "    elif a==9:\n",
    "        print('*   *')\n",
    "    a=a+1\n",
    "        \n",
    "        "
   ]
  },
  {
   "cell_type": "code",
   "execution_count": 18,
   "id": "a5bdf305",
   "metadata": {},
   "outputs": [
    {
     "name": "stdout",
     "output_type": "stream",
     "text": [
      "*****\n",
      "  *\n",
      "  *\n",
      "  *\n",
      "*****\n"
     ]
    }
   ],
   "source": [
    "a=1\n",
    "while a<6:\n",
    "    if a==1:\n",
    "        print('*****')\n",
    "    elif a==2:\n",
    "        print('  *')\n",
    "    elif a==3:\n",
    "        print('  *')\n",
    "    elif a==4:\n",
    "        print('  *')\n",
    "    elif a==5:\n",
    "        print('*****')\n",
    "    a=a+1"
   ]
  },
  {
   "cell_type": "code",
   "execution_count": 19,
   "id": "cce8c209",
   "metadata": {},
   "outputs": [
    {
     "name": "stdout",
     "output_type": "stream",
     "text": [
      "*****\n",
      "  *\n",
      "  *\n",
      "  *\n",
      "***\n"
     ]
    }
   ],
   "source": [
    "a=1\n",
    "while a<6:\n",
    "    if a==1:\n",
    "        print('*****')\n",
    "    elif a==2:\n",
    "        print('  *')\n",
    "    elif a==3:\n",
    "        print('  *')\n",
    "    elif a==4:\n",
    "        print('  *')\n",
    "    elif a==5:\n",
    "        print('***')\n",
    "    a=a+1"
   ]
  },
  {
   "cell_type": "code",
   "execution_count": 6,
   "id": "e4da0a4d",
   "metadata": {},
   "outputs": [
    {
     "name": "stdout",
     "output_type": "stream",
     "text": [
      "*    *\n",
      "*  *\n",
      "* *\n",
      "*  *\n",
      "*   *\n"
     ]
    }
   ],
   "source": [
    "a=1\n",
    "while a<6:\n",
    "    if a==1:\n",
    "        print('*    *')\n",
    "    elif a==2:\n",
    "        print('*  *')\n",
    "    elif a==3:\n",
    "        print('* *')\n",
    "    elif a==4:\n",
    "        print('*  *')\n",
    "    elif a==5:\n",
    "        print('*   *')\n",
    "    a=a+1"
   ]
  },
  {
   "cell_type": "code",
   "execution_count": 2,
   "id": "54136e4c",
   "metadata": {},
   "outputs": [
    {
     "name": "stdout",
     "output_type": "stream",
     "text": [
      "*\n",
      "*\n",
      "*\n",
      "*\n",
      "*****\n"
     ]
    }
   ],
   "source": [
    "a=1\n",
    "while a<=5:\n",
    "    if a==1:\n",
    "        print('*')\n",
    "    elif a==2:\n",
    "        print('*')\n",
    "    elif a==3:\n",
    "        print('*')\n",
    "    elif a==4:\n",
    "        print('*')\n",
    "    elif a==5:\n",
    "        print ('*****')\n",
    "    a=a+1"
   ]
  },
  {
   "cell_type": "code",
   "execution_count": 4,
   "id": "cb5e627f",
   "metadata": {},
   "outputs": [
    {
     "name": "stdout",
     "output_type": "stream",
     "text": [
      "*        *\n",
      "* *    * *\n",
      "*    *   *\n",
      "*        *\n",
      "*        *\n"
     ]
    }
   ],
   "source": [
    "a=1\n",
    "while a<6:\n",
    "    if a==1:\n",
    "        print('*        *')\n",
    "    elif a==2:\n",
    "        print('* *    * *')\n",
    "    elif a==3:\n",
    "        print('*    *   *')\n",
    "    elif a==4:\n",
    "        print('*        *')\n",
    "            \n",
    "    elif a==5:\n",
    "        print('*        *')\n",
    "    a=a+1"
   ]
  },
  {
   "cell_type": "code",
   "execution_count": 6,
   "id": "a294c329",
   "metadata": {},
   "outputs": [
    {
     "name": "stdout",
     "output_type": "stream",
     "text": [
      "*      *\n",
      "* *    *\n",
      "*   *  *\n",
      "*    * *\n",
      "*      *\n"
     ]
    }
   ],
   "source": [
    "a=1\n",
    "while a<6:\n",
    "    if a==1:\n",
    "        print('*      *')\n",
    "    elif a==2:\n",
    "        print('* *    *')\n",
    "    elif a==3:\n",
    "        print('*   *  *')\n",
    "    elif a==4:\n",
    "        print('*    * *')\n",
    "    elif a==5:\n",
    "        print('*      *')\n",
    "    a=a+1"
   ]
  },
  {
   "cell_type": "code",
   "execution_count": 9,
   "id": "c923c71f",
   "metadata": {},
   "outputs": [
    {
     "name": "stdout",
     "output_type": "stream",
     "text": [
      "  * *  \n",
      "*     *\n",
      "*     *\n",
      "*     *\n",
      "  * *  \n"
     ]
    }
   ],
   "source": [
    "a=1\n",
    "while a<6:\n",
    "    if a==1:\n",
    "        print(\"  * *  \")\n",
    "    elif a==2:\n",
    "        print('*     *')\n",
    "    elif a==3:\n",
    "        print('*     *')\n",
    "    elif a==4:\n",
    "        print('*     *')\n",
    "    elif a==5:\n",
    "        print('  * *  ')\n",
    "    a=a+1"
   ]
  },
  {
   "cell_type": "code",
   "execution_count": 10,
   "id": "cfeec56e",
   "metadata": {},
   "outputs": [
    {
     "name": "stdout",
     "output_type": "stream",
     "text": [
      "*****\n",
      "*    *\n",
      "*****\n",
      "*      \n",
      "*   \n"
     ]
    }
   ],
   "source": [
    "a=1\n",
    "while a<6:\n",
    "    if a==1:\n",
    "        print(\"*****\")\n",
    "    elif a==2:\n",
    "        print('*    *')\n",
    "    elif a==3:\n",
    "        print('*****')\n",
    "    elif a==4:\n",
    "        print('*      ')\n",
    "    elif a==5:\n",
    "        print('*   ')\n",
    "    a=a+1"
   ]
  },
  {
   "cell_type": "code",
   "execution_count": 14,
   "id": "da0a24f7",
   "metadata": {},
   "outputs": [
    {
     "name": "stdout",
     "output_type": "stream",
     "text": [
      " ****\n",
      "*    *\n",
      "*    *\n",
      "*   **\n",
      " ****\n",
      "      *\n"
     ]
    }
   ],
   "source": [
    "a=1\n",
    "while a<=6:\n",
    "    if a==1:\n",
    "        print(\" ****\")\n",
    "    elif a==2:\n",
    "        print('*    *')\n",
    "    elif a==3:\n",
    "        print('*    *')\n",
    "    elif a==4:\n",
    "        print('*   **')\n",
    "    elif a==5:\n",
    "        print(' ****')\n",
    "    elif a==6:\n",
    "        print('      *')\n",
    "    a=a+1"
   ]
  },
  {
   "cell_type": "code",
   "execution_count": 15,
   "id": "52f5af06",
   "metadata": {},
   "outputs": [
    {
     "name": "stdout",
     "output_type": "stream",
     "text": [
      "*****\n",
      "*    *\n",
      "*****\n",
      "*  *\n",
      "*    *\n"
     ]
    }
   ],
   "source": [
    "a=1\n",
    "while a<6:\n",
    "    if a==1:\n",
    "        print(\"*****\")\n",
    "    elif a==2:\n",
    "        print('*    *')\n",
    "    elif a==3:\n",
    "        print('*****')\n",
    "    elif a==4:\n",
    "        print('*  *')\n",
    "    elif a==5:\n",
    "        print('*    *')\n",
    "    a=a+1"
   ]
  },
  {
   "cell_type": "code",
   "execution_count": 20,
   "id": "9577c23d",
   "metadata": {},
   "outputs": [
    {
     "name": "stdout",
     "output_type": "stream",
     "text": [
      " *****  \n",
      " *\n",
      " *****\n",
      "     *\n",
      " *****\n"
     ]
    }
   ],
   "source": [
    "a=1\n",
    "while a<6:\n",
    "    if a==1:\n",
    "        print(\" *****  \")\n",
    "    elif a==2:\n",
    "        print(' *')\n",
    "    elif a==3:\n",
    "        print(' *****')\n",
    "    elif a==4:\n",
    "        print('     *')\n",
    "    elif a==5:\n",
    "        print(' *****')\n",
    "    a=a+1"
   ]
  },
  {
   "cell_type": "code",
   "execution_count": 21,
   "id": "73d93917",
   "metadata": {},
   "outputs": [
    {
     "name": "stdout",
     "output_type": "stream",
     "text": [
      "*****\n",
      "  *\n",
      "  *\n",
      "  *\n",
      "  *\n"
     ]
    }
   ],
   "source": [
    "a=1\n",
    "while a<=5:\n",
    "    if a==1:\n",
    "        print('*****')\n",
    "    elif a==2:\n",
    "        print('  *')\n",
    "    elif a==3:\n",
    "        print('  *')\n",
    "    elif a==4:\n",
    "        print('  *')\n",
    "    elif a==5:\n",
    "        print('  *')\n",
    "    a=a+1"
   ]
  },
  {
   "cell_type": "code",
   "execution_count": 22,
   "id": "78c9fb16",
   "metadata": {},
   "outputs": [
    {
     "name": "stdout",
     "output_type": "stream",
     "text": [
      "*    *\n",
      "*    *\n",
      "*    *\n",
      "*    *\n",
      "******\n"
     ]
    }
   ],
   "source": [
    "a=1\n",
    "while a<=5:\n",
    "    if a==1:\n",
    "        print('*    *')\n",
    "    elif a==2:\n",
    "        print('*    *')\n",
    "    elif a==3:\n",
    "        print('*    *')\n",
    "    elif a==4:\n",
    "        print('*    *')\n",
    "    elif a==5:\n",
    "        print('******')\n",
    "    a=a+1"
   ]
  },
  {
   "cell_type": "code",
   "execution_count": 29,
   "id": "7ad139fd",
   "metadata": {},
   "outputs": [
    {
     "name": "stdout",
     "output_type": "stream",
     "text": [
      "*       *\n",
      " *     *\n",
      "  *   *\n",
      "   * *\n",
      "    *\n"
     ]
    }
   ],
   "source": [
    "a=1\n",
    "while a<=5:\n",
    "    if a==1:\n",
    "        print('*       *')\n",
    "    elif a==2:\n",
    "        print(' *     *')\n",
    "    elif a==3:\n",
    "        print('  *   *')\n",
    "    elif a==4:\n",
    "        print('   * *')\n",
    "    elif a==5:\n",
    "        print('    *')\n",
    "    a=a+1"
   ]
  },
  {
   "cell_type": "code",
   "execution_count": 30,
   "id": "0fd213ec",
   "metadata": {},
   "outputs": [
    {
     "name": "stdout",
     "output_type": "stream",
     "text": [
      "*     *\n",
      "*     *\n",
      "*  *  *\n",
      "* * * *\n",
      "*     *\n"
     ]
    }
   ],
   "source": [
    "a=1\n",
    "while a<=5:\n",
    "    if a==1:\n",
    "        print('*     *')\n",
    "    elif a==2:\n",
    "        print('*     *')\n",
    "    elif a==3:\n",
    "        print('*  *  *')\n",
    "    elif a==4:\n",
    "        print('* * * *')\n",
    "    elif a==5:\n",
    "        print('*     *')\n",
    "    a=a+1"
   ]
  },
  {
   "cell_type": "code",
   "execution_count": 31,
   "id": "cc367fb2",
   "metadata": {},
   "outputs": [
    {
     "name": "stdout",
     "output_type": "stream",
     "text": [
      "*   *\n",
      " * * \n",
      "  *  \n",
      " * * \n",
      "*   *\n"
     ]
    }
   ],
   "source": [
    "a=1\n",
    "while a<=5:\n",
    "    if a==1:\n",
    "        print('*   *')\n",
    "    elif a==2:\n",
    "        print(' * * ')\n",
    "    elif a==3:\n",
    "        print('  *  ')\n",
    "    elif a==4:\n",
    "        print(' * * ')\n",
    "    elif a==5:\n",
    "        print('*   *')\n",
    "    a=a+1"
   ]
  },
  {
   "cell_type": "code",
   "execution_count": 32,
   "id": "79876408",
   "metadata": {},
   "outputs": [
    {
     "name": "stdout",
     "output_type": "stream",
     "text": [
      "*   *\n",
      " * * \n",
      "  *  \n",
      "  *  \n",
      "  *  \n"
     ]
    }
   ],
   "source": [
    "a=1\n",
    "while a<=5:\n",
    "    if a==1:\n",
    "        print('*   *')\n",
    "    elif a==2:\n",
    "        print(' * * ')\n",
    "    elif a==3:\n",
    "        print('  *  ')\n",
    "    elif a==4:\n",
    "        print('  *  ')\n",
    "    elif a==5:\n",
    "        print('  *  ')\n",
    "    a=a+1"
   ]
  },
  {
   "cell_type": "code",
   "execution_count": 33,
   "id": "8eb29bc1",
   "metadata": {},
   "outputs": [
    {
     "name": "stdout",
     "output_type": "stream",
     "text": [
      "*****\n",
      "   * \n",
      "  *  \n",
      " *   \n",
      "*****\n"
     ]
    }
   ],
   "source": [
    "a=1\n",
    "while a<=5:\n",
    "    if a==1:\n",
    "        print('*****')\n",
    "    elif a==2:\n",
    "        print('   * ')\n",
    "    elif a==3:\n",
    "        print('  *  ')\n",
    "    elif a==4:\n",
    "        print(' *   ')\n",
    "    elif a==5:\n",
    "        print('*****')\n",
    "    a=a+1"
   ]
  },
  {
   "cell_type": "code",
   "execution_count": null,
   "id": "70f52758",
   "metadata": {},
   "outputs": [],
   "source": []
  }
 ],
 "metadata": {
  "kernelspec": {
   "display_name": "Python 3 (ipykernel)",
   "language": "python",
   "name": "python3"
  },
  "language_info": {
   "codemirror_mode": {
    "name": "ipython",
    "version": 3
   },
   "file_extension": ".py",
   "mimetype": "text/x-python",
   "name": "python",
   "nbconvert_exporter": "python",
   "pygments_lexer": "ipython3",
   "version": "3.9.12"
  }
 },
 "nbformat": 4,
 "nbformat_minor": 5
}
